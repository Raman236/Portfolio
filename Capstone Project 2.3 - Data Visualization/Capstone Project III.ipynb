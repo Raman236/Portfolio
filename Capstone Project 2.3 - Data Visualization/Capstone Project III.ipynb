{
 "cells": [
  {
   "cell_type": "code",
   "execution_count": 728,
   "id": "b49f31de-625c-4856-81b3-09ed788832aa",
   "metadata": {},
   "outputs": [],
   "source": [
    "# import libraries\n",
    "import numpy as np\n",
    "import pandas as pd\n",
    "\n",
    "# plotting libraries\n",
    "import matplotlib.pyplot as plt\n",
    "import seaborn as sns\n",
    "%matplotlib inline\n",
    "\n",
    "# import missingno to handle missing data\n",
    "import missingno\n",
    "\n",
    "# Set the seaborn plot theme\n",
    "sns.set_theme(style=\"whitegrid\")"
   ]
  },
  {
   "cell_type": "code",
   "execution_count": 678,
   "id": "6bd39788-b847-4c20-85ad-9e5f77b4bd65",
   "metadata": {},
   "outputs": [],
   "source": [
    "# import the data (Source: https://data.openup.org.za/dataset/2016-matric-schools-report-ybxv-paxu)\n",
    "# updated: October 8, 2021, 8:34 PM (UTC+02:00)\n",
    "source = 'Dataset/2016 Matric Reports.csv'\n",
    "df = pd.read_csv(source)"
   ]
  },
  {
   "cell_type": "code",
   "execution_count": 679,
   "id": "32402cf4-990a-4e34-a270-13aba9cf66b3",
   "metadata": {},
   "outputs": [
    {
     "data": {
      "text/html": [
       "<div>\n",
       "<style scoped>\n",
       "    .dataframe tbody tr th:only-of-type {\n",
       "        vertical-align: middle;\n",
       "    }\n",
       "\n",
       "    .dataframe tbody tr th {\n",
       "        vertical-align: top;\n",
       "    }\n",
       "\n",
       "    .dataframe thead th {\n",
       "        text-align: right;\n",
       "    }\n",
       "</style>\n",
       "<table border=\"1\" class=\"dataframe\">\n",
       "  <thead>\n",
       "    <tr style=\"text-align: right;\">\n",
       "      <th></th>\n",
       "      <th>emis</th>\n",
       "      <th>centre_no</th>\n",
       "      <th>name</th>\n",
       "      <th>quintile</th>\n",
       "      <th>wrote_2014</th>\n",
       "      <th>passed_2014</th>\n",
       "      <th>perc_2014</th>\n",
       "      <th>progressed_2015</th>\n",
       "      <th>wrote_2015</th>\n",
       "      <th>passed_2015</th>\n",
       "      <th>perc_2015</th>\n",
       "      <th>progressed_2016</th>\n",
       "      <th>wrote_2016</th>\n",
       "      <th>passed_2016</th>\n",
       "      <th>perc_2016</th>\n",
       "    </tr>\n",
       "  </thead>\n",
       "  <tbody>\n",
       "    <tr>\n",
       "      <th>0</th>\n",
       "      <td>200300003</td>\n",
       "      <td>4161001</td>\n",
       "      <td>AMABELE SENIOR SECONDARY SCHOOL</td>\n",
       "      <td>1.0</td>\n",
       "      <td>37.0</td>\n",
       "      <td>14.0</td>\n",
       "      <td>37.8</td>\n",
       "      <td>0.0</td>\n",
       "      <td>38.0</td>\n",
       "      <td>29.0</td>\n",
       "      <td>76.3</td>\n",
       "      <td>12</td>\n",
       "      <td>51</td>\n",
       "      <td>36</td>\n",
       "      <td>70.6</td>\n",
       "    </tr>\n",
       "    <tr>\n",
       "      <th>1</th>\n",
       "      <td>200300869</td>\n",
       "      <td>4161002</td>\n",
       "      <td>BETHEL COLLEGE HIGH SCHOOL</td>\n",
       "      <td>99.0</td>\n",
       "      <td>59.0</td>\n",
       "      <td>42.0</td>\n",
       "      <td>71.2</td>\n",
       "      <td>3.0</td>\n",
       "      <td>46.0</td>\n",
       "      <td>31.0</td>\n",
       "      <td>67.4</td>\n",
       "      <td>0</td>\n",
       "      <td>34</td>\n",
       "      <td>24</td>\n",
       "      <td>70.6</td>\n",
       "    </tr>\n",
       "    <tr>\n",
       "      <th>2</th>\n",
       "      <td>200300024</td>\n",
       "      <td>4161003</td>\n",
       "      <td>BLYTHSWOOD INSTITUTION</td>\n",
       "      <td>3.0</td>\n",
       "      <td>80.0</td>\n",
       "      <td>50.0</td>\n",
       "      <td>62.5</td>\n",
       "      <td>12.0</td>\n",
       "      <td>81.0</td>\n",
       "      <td>34.0</td>\n",
       "      <td>42.0</td>\n",
       "      <td>7</td>\n",
       "      <td>101</td>\n",
       "      <td>59</td>\n",
       "      <td>58.4</td>\n",
       "    </tr>\n",
       "    <tr>\n",
       "      <th>3</th>\n",
       "      <td>200300033</td>\n",
       "      <td>4161048</td>\n",
       "      <td>BONGOLETHU SENIOR SECONDARY SCHOOL</td>\n",
       "      <td>2.0</td>\n",
       "      <td>26.0</td>\n",
       "      <td>13.0</td>\n",
       "      <td>50.0</td>\n",
       "      <td>2.0</td>\n",
       "      <td>35.0</td>\n",
       "      <td>11.0</td>\n",
       "      <td>31.4</td>\n",
       "      <td>0</td>\n",
       "      <td>24</td>\n",
       "      <td>9</td>\n",
       "      <td>37.5</td>\n",
       "    </tr>\n",
       "    <tr>\n",
       "      <th>4</th>\n",
       "      <td>200300741</td>\n",
       "      <td>4161037</td>\n",
       "      <td>BUTTERWORTH HIGH SCHOOL</td>\n",
       "      <td>4.0</td>\n",
       "      <td>81.0</td>\n",
       "      <td>61.0</td>\n",
       "      <td>75.3</td>\n",
       "      <td>4.0</td>\n",
       "      <td>85.0</td>\n",
       "      <td>78.0</td>\n",
       "      <td>91.8</td>\n",
       "      <td>0</td>\n",
       "      <td>84</td>\n",
       "      <td>77</td>\n",
       "      <td>91.7</td>\n",
       "    </tr>\n",
       "  </tbody>\n",
       "</table>\n",
       "</div>"
      ],
      "text/plain": [
       "        emis  centre_no                                name  quintile  \\\n",
       "0  200300003    4161001     AMABELE SENIOR SECONDARY SCHOOL       1.0   \n",
       "1  200300869    4161002          BETHEL COLLEGE HIGH SCHOOL      99.0   \n",
       "2  200300024    4161003              BLYTHSWOOD INSTITUTION       3.0   \n",
       "3  200300033    4161048  BONGOLETHU SENIOR SECONDARY SCHOOL       2.0   \n",
       "4  200300741    4161037             BUTTERWORTH HIGH SCHOOL       4.0   \n",
       "\n",
       "   wrote_2014  passed_2014  perc_2014  progressed_2015  wrote_2015  \\\n",
       "0        37.0         14.0       37.8              0.0        38.0   \n",
       "1        59.0         42.0       71.2              3.0        46.0   \n",
       "2        80.0         50.0       62.5             12.0        81.0   \n",
       "3        26.0         13.0       50.0              2.0        35.0   \n",
       "4        81.0         61.0       75.3              4.0        85.0   \n",
       "\n",
       "   passed_2015  perc_2015  progressed_2016  wrote_2016  passed_2016  perc_2016  \n",
       "0         29.0       76.3               12          51           36       70.6  \n",
       "1         31.0       67.4                0          34           24       70.6  \n",
       "2         34.0       42.0                7         101           59       58.4  \n",
       "3         11.0       31.4                0          24            9       37.5  \n",
       "4         78.0       91.8                0          84           77       91.7  "
      ]
     },
     "execution_count": 679,
     "metadata": {},
     "output_type": "execute_result"
    }
   ],
   "source": [
    "# take a quick look at the dataset\n",
    "df.head()"
   ]
  },
  {
   "cell_type": "code",
   "execution_count": 680,
   "id": "238c8b1d-14e9-4fd0-bfc3-e3cc5f6f8f00",
   "metadata": {},
   "outputs": [
    {
     "data": {
      "text/plain": [
       "Index(['emis', 'centre_no', 'name', 'quintile', 'wrote_2014', 'passed_2014',\n",
       "       'perc_2014', 'progressed_2015', 'wrote_2015', 'passed_2015',\n",
       "       'perc_2015', 'progressed_2016', 'wrote_2016', 'passed_2016',\n",
       "       'perc_2016'],\n",
       "      dtype='object')"
      ]
     },
     "execution_count": 680,
     "metadata": {},
     "output_type": "execute_result"
    }
   ],
   "source": [
    "df.columns"
   ]
  },
  {
   "cell_type": "markdown",
   "id": "d5262dd7-a7b5-4522-a0a3-5f0325722453",
   "metadata": {},
   "source": [
    "# About the dataset"
   ]
  },
  {
   "cell_type": "markdown",
   "id": "6b8b95ac-867b-4808-b0e1-6fbce8c06498",
   "metadata": {},
   "source": [
    "This dataset describes matric student performances by school from 2014 to 2016, separated by quintile, which is a school ranking system (**1 - 5**) used by the education department to classify a school in terms of school facilities (science lab, library, computer lab, pools etc), where it is based (rural, informal, CBD), teacher qualifications (BEd, Masters etc.) and other characteristics not mentioned."
   ]
  },
  {
   "cell_type": "markdown",
   "id": "22216e41-b21a-41d4-88e6-e00920e1fc26",
   "metadata": {},
   "source": [
    "- **Emis** - EMIS is a function and unit in the DBE with the responsibility to develop and maintain an integrated education information system for management of education.(https://www.education.gov.za/Programmes/EMIS.aspx)\n",
    "- **Centre_no** - [numerical] centre number\n",
    "- **name** - [categorical] school name\n",
    "- **quintile** - [discrete][categorical] School standard (1 - 5 only)\n",
    "- **wrote 2014 - 2016** - [discrete] number of individuals that wrote (from 2014 to 2016)\n",
    "- **passed 2014 - 2016** - [discrete] numbre of individuals that passed (from 2014 to 2016)\n",
    "- **perc_2014 - 2016** - [discrete] Percentage pass rate (from 2014 to 2016)\n",
    "- **progessed** - no information on this column was given (and how it was calculated)"
   ]
  },
  {
   "cell_type": "markdown",
   "id": "6daf3fca-79c3-4103-95d0-05b9ecd72a2f",
   "metadata": {},
   "source": [
    "# Check for duplicate data"
   ]
  },
  {
   "cell_type": "code",
   "execution_count": 681,
   "id": "db37d6fd-b2b8-473b-a7eb-0b02b0b7705f",
   "metadata": {},
   "outputs": [
    {
     "data": {
      "text/html": [
       "<div>\n",
       "<style scoped>\n",
       "    .dataframe tbody tr th:only-of-type {\n",
       "        vertical-align: middle;\n",
       "    }\n",
       "\n",
       "    .dataframe tbody tr th {\n",
       "        vertical-align: top;\n",
       "    }\n",
       "\n",
       "    .dataframe thead th {\n",
       "        text-align: right;\n",
       "    }\n",
       "</style>\n",
       "<table border=\"1\" class=\"dataframe\">\n",
       "  <thead>\n",
       "    <tr style=\"text-align: right;\">\n",
       "      <th></th>\n",
       "      <th>emis</th>\n",
       "      <th>centre_no</th>\n",
       "      <th>name</th>\n",
       "      <th>quintile</th>\n",
       "      <th>wrote_2014</th>\n",
       "      <th>passed_2014</th>\n",
       "      <th>perc_2014</th>\n",
       "      <th>progressed_2015</th>\n",
       "      <th>wrote_2015</th>\n",
       "      <th>passed_2015</th>\n",
       "      <th>perc_2015</th>\n",
       "      <th>progressed_2016</th>\n",
       "      <th>wrote_2016</th>\n",
       "      <th>passed_2016</th>\n",
       "      <th>perc_2016</th>\n",
       "    </tr>\n",
       "  </thead>\n",
       "  <tbody>\n",
       "    <tr>\n",
       "      <th>75</th>\n",
       "      <td>200601045</td>\n",
       "      <td>4141025</td>\n",
       "      <td>ZWELANDILE SENIOR SECONDARY SCHOOL</td>\n",
       "      <td>2.0</td>\n",
       "      <td>61.0</td>\n",
       "      <td>20.0</td>\n",
       "      <td>32.8</td>\n",
       "      <td>0.0</td>\n",
       "      <td>56.0</td>\n",
       "      <td>14.0</td>\n",
       "      <td>25.0</td>\n",
       "      <td>45</td>\n",
       "      <td>47</td>\n",
       "      <td>26</td>\n",
       "      <td>55.3</td>\n",
       "    </tr>\n",
       "    <tr>\n",
       "      <th>302</th>\n",
       "      <td>200200126</td>\n",
       "      <td>4191010</td>\n",
       "      <td>DONDASHE SENIOR SECONDARY SCHOOL</td>\n",
       "      <td>2.0</td>\n",
       "      <td>38.0</td>\n",
       "      <td>10.0</td>\n",
       "      <td>26.3</td>\n",
       "      <td>0.0</td>\n",
       "      <td>40.0</td>\n",
       "      <td>11.0</td>\n",
       "      <td>27.5</td>\n",
       "      <td>0</td>\n",
       "      <td>28</td>\n",
       "      <td>12</td>\n",
       "      <td>42.9</td>\n",
       "    </tr>\n",
       "    <tr>\n",
       "      <th>385</th>\n",
       "      <td>200600642</td>\n",
       "      <td>4081017</td>\n",
       "      <td>NTSOKOTHA SENIOR SECONDARY SCHOOL</td>\n",
       "      <td>2.0</td>\n",
       "      <td>164.0</td>\n",
       "      <td>136.0</td>\n",
       "      <td>82.9</td>\n",
       "      <td>17.0</td>\n",
       "      <td>253.0</td>\n",
       "      <td>153.0</td>\n",
       "      <td>60.5</td>\n",
       "      <td>22</td>\n",
       "      <td>181</td>\n",
       "      <td>103</td>\n",
       "      <td>56.9</td>\n",
       "    </tr>\n",
       "    <tr>\n",
       "      <th>387</th>\n",
       "      <td>200601029</td>\n",
       "      <td>4081019</td>\n",
       "      <td>PAKAMANI SENIOR SECONDARY SCHOOL</td>\n",
       "      <td>3.0</td>\n",
       "      <td>26.0</td>\n",
       "      <td>23.0</td>\n",
       "      <td>88.5</td>\n",
       "      <td>6.0</td>\n",
       "      <td>23.0</td>\n",
       "      <td>13.0</td>\n",
       "      <td>56.5</td>\n",
       "      <td>7</td>\n",
       "      <td>19</td>\n",
       "      <td>12</td>\n",
       "      <td>63.2</td>\n",
       "    </tr>\n",
       "    <tr>\n",
       "      <th>497</th>\n",
       "      <td>200401280</td>\n",
       "      <td>4011002</td>\n",
       "      <td>DINIZULU SENIOR SECONDARY SCHOOL</td>\n",
       "      <td>2.0</td>\n",
       "      <td>43.0</td>\n",
       "      <td>22.0</td>\n",
       "      <td>51.2</td>\n",
       "      <td>57.0</td>\n",
       "      <td>58.0</td>\n",
       "      <td>19.0</td>\n",
       "      <td>32.8</td>\n",
       "      <td>0</td>\n",
       "      <td>50</td>\n",
       "      <td>12</td>\n",
       "      <td>24.0</td>\n",
       "    </tr>\n",
       "  </tbody>\n",
       "</table>\n",
       "</div>"
      ],
      "text/plain": [
       "          emis  centre_no                                name  quintile  \\\n",
       "75   200601045    4141025  ZWELANDILE SENIOR SECONDARY SCHOOL       2.0   \n",
       "302  200200126    4191010    DONDASHE SENIOR SECONDARY SCHOOL       2.0   \n",
       "385  200600642    4081017   NTSOKOTHA SENIOR SECONDARY SCHOOL       2.0   \n",
       "387  200601029    4081019    PAKAMANI SENIOR SECONDARY SCHOOL       3.0   \n",
       "497  200401280    4011002    DINIZULU SENIOR SECONDARY SCHOOL       2.0   \n",
       "\n",
       "     wrote_2014  passed_2014  perc_2014  progressed_2015  wrote_2015  \\\n",
       "75         61.0         20.0       32.8              0.0        56.0   \n",
       "302        38.0         10.0       26.3              0.0        40.0   \n",
       "385       164.0        136.0       82.9             17.0       253.0   \n",
       "387        26.0         23.0       88.5              6.0        23.0   \n",
       "497        43.0         22.0       51.2             57.0        58.0   \n",
       "\n",
       "     passed_2015  perc_2015  progressed_2016  wrote_2016  passed_2016  \\\n",
       "75          14.0       25.0               45          47           26   \n",
       "302         11.0       27.5                0          28           12   \n",
       "385        153.0       60.5               22         181          103   \n",
       "387         13.0       56.5                7          19           12   \n",
       "497         19.0       32.8                0          50           12   \n",
       "\n",
       "     perc_2016  \n",
       "75        55.3  \n",
       "302       42.9  \n",
       "385       56.9  \n",
       "387       63.2  \n",
       "497       24.0  "
      ]
     },
     "execution_count": 681,
     "metadata": {},
     "output_type": "execute_result"
    }
   ],
   "source": [
    "# retrieve the first 5 results for duplicated schools by name\n",
    "df[df[['name']].duplicated()].head()"
   ]
  },
  {
   "cell_type": "code",
   "execution_count": 682,
   "id": "069fc80a-84e2-4f58-80b9-6115d365d7c2",
   "metadata": {},
   "outputs": [
    {
     "data": {
      "text/html": [
       "<div>\n",
       "<style scoped>\n",
       "    .dataframe tbody tr th:only-of-type {\n",
       "        vertical-align: middle;\n",
       "    }\n",
       "\n",
       "    .dataframe tbody tr th {\n",
       "        vertical-align: top;\n",
       "    }\n",
       "\n",
       "    .dataframe thead th {\n",
       "        text-align: right;\n",
       "    }\n",
       "</style>\n",
       "<table border=\"1\" class=\"dataframe\">\n",
       "  <thead>\n",
       "    <tr style=\"text-align: right;\">\n",
       "      <th></th>\n",
       "      <th>emis</th>\n",
       "      <th>centre_no</th>\n",
       "      <th>name</th>\n",
       "      <th>quintile</th>\n",
       "      <th>wrote_2014</th>\n",
       "      <th>passed_2014</th>\n",
       "      <th>perc_2014</th>\n",
       "      <th>progressed_2015</th>\n",
       "      <th>wrote_2015</th>\n",
       "      <th>passed_2015</th>\n",
       "      <th>perc_2015</th>\n",
       "      <th>progressed_2016</th>\n",
       "      <th>wrote_2016</th>\n",
       "      <th>passed_2016</th>\n",
       "      <th>perc_2016</th>\n",
       "    </tr>\n",
       "  </thead>\n",
       "  <tbody>\n",
       "    <tr>\n",
       "      <th>48</th>\n",
       "      <td>200300702</td>\n",
       "      <td>4161035</td>\n",
       "      <td>ZWELANDILE SENIOR SECONDARY SCHOOL</td>\n",
       "      <td>3.0</td>\n",
       "      <td>56.0</td>\n",
       "      <td>30.0</td>\n",
       "      <td>53.6</td>\n",
       "      <td>0.0</td>\n",
       "      <td>82.0</td>\n",
       "      <td>42.0</td>\n",
       "      <td>51.2</td>\n",
       "      <td>0</td>\n",
       "      <td>97</td>\n",
       "      <td>38</td>\n",
       "      <td>39.2</td>\n",
       "    </tr>\n",
       "    <tr>\n",
       "      <th>75</th>\n",
       "      <td>200601045</td>\n",
       "      <td>4141025</td>\n",
       "      <td>ZWELANDILE SENIOR SECONDARY SCHOOL</td>\n",
       "      <td>2.0</td>\n",
       "      <td>61.0</td>\n",
       "      <td>20.0</td>\n",
       "      <td>32.8</td>\n",
       "      <td>0.0</td>\n",
       "      <td>56.0</td>\n",
       "      <td>14.0</td>\n",
       "      <td>25.0</td>\n",
       "      <td>45</td>\n",
       "      <td>47</td>\n",
       "      <td>26</td>\n",
       "      <td>55.3</td>\n",
       "    </tr>\n",
       "  </tbody>\n",
       "</table>\n",
       "</div>"
      ],
      "text/plain": [
       "         emis  centre_no                                name  quintile  \\\n",
       "48  200300702    4161035  ZWELANDILE SENIOR SECONDARY SCHOOL       3.0   \n",
       "75  200601045    4141025  ZWELANDILE SENIOR SECONDARY SCHOOL       2.0   \n",
       "\n",
       "    wrote_2014  passed_2014  perc_2014  progressed_2015  wrote_2015  \\\n",
       "48        56.0         30.0       53.6              0.0        82.0   \n",
       "75        61.0         20.0       32.8              0.0        56.0   \n",
       "\n",
       "    passed_2015  perc_2015  progressed_2016  wrote_2016  passed_2016  \\\n",
       "48         42.0       51.2                0          97           38   \n",
       "75         14.0       25.0               45          47           26   \n",
       "\n",
       "    perc_2016  \n",
       "48       39.2  \n",
       "75       55.3  "
      ]
     },
     "execution_count": 682,
     "metadata": {},
     "output_type": "execute_result"
    }
   ],
   "source": [
    "df[df['name']=='ZWELANDILE SENIOR SECONDARY SCHOOL']"
   ]
  },
  {
   "cell_type": "code",
   "execution_count": 683,
   "id": "e73e6539-1e2e-468c-96a2-73ca6f4e7c46",
   "metadata": {},
   "outputs": [
    {
     "data": {
      "text/plain": [
       "0"
      ]
     },
     "execution_count": 683,
     "metadata": {},
     "output_type": "execute_result"
    }
   ],
   "source": [
    "# check duplicates by centre number. because centre numbre is specific for each school \n",
    "# even though they might have the same name\n",
    "df[['name','centre_no']].duplicated().sum()"
   ]
  },
  {
   "cell_type": "markdown",
   "id": "ac9918c8-b4a8-45d5-8093-46e9af0e8c08",
   "metadata": {},
   "source": [
    "So it stands to reason that I cannot delete the duplicated rows as they seem to have the same name but different centre number.\n",
    "\n",
    "Further investigations based on the centre numbers provided the following:\n",
    "\n",
    "4161035 Zwelandile Senior SecondaN<br>\n",
    "4141025 Zwelandile Senior SecondaN.\n",
    "\n",
    "It seems that even though the centre number is different, the school is the same.\n",
    "\n",
    "With this information, I have decided to drop the 17 duplicated rows in the 1000 row database"
   ]
  },
  {
   "cell_type": "code",
   "execution_count": 684,
   "id": "aef5b271-4cce-4a3f-bde2-89ec2a9b72c7",
   "metadata": {},
   "outputs": [],
   "source": [
    "# dropping the duplicate rows\n",
    "df.drop_duplicates(subset='name', inplace=True)"
   ]
  },
  {
   "cell_type": "markdown",
   "id": "81bfffe4-8cbe-4ccc-a0e8-cf2ea33dfbc4",
   "metadata": {},
   "source": [
    "# Check appropriate data types"
   ]
  },
  {
   "cell_type": "code",
   "execution_count": 685,
   "id": "8611b295-5c6d-42b6-991a-c4bf21e54a2e",
   "metadata": {},
   "outputs": [
    {
     "data": {
      "text/plain": [
       "emis                 int64\n",
       "centre_no            int64\n",
       "name                object\n",
       "quintile           float64\n",
       "wrote_2014         float64\n",
       "passed_2014        float64\n",
       "perc_2014          float64\n",
       "progressed_2015    float64\n",
       "wrote_2015         float64\n",
       "passed_2015        float64\n",
       "perc_2015          float64\n",
       "progressed_2016      int64\n",
       "wrote_2016           int64\n",
       "passed_2016          int64\n",
       "perc_2016          float64\n",
       "dtype: object"
      ]
     },
     "execution_count": 685,
     "metadata": {},
     "output_type": "execute_result"
    }
   ],
   "source": [
    "df.dtypes"
   ]
  },
  {
   "cell_type": "markdown",
   "id": "84e54c23-56bc-4b37-8acb-c7422b5cde41",
   "metadata": {},
   "source": [
    "Data types seem to be in their correct types"
   ]
  },
  {
   "cell_type": "markdown",
   "id": "01cbce04-a60a-4130-b93e-329086542fd3",
   "metadata": {},
   "source": [
    "# Deal with NANs and irregular data"
   ]
  },
  {
   "cell_type": "markdown",
   "id": "25294213-82cc-43ab-9e41-4fda51c0d518",
   "metadata": {},
   "source": [
    "Quintile column has 99.0, which is inconsistent. Quintiles are from 1 to 5. Replace all 99.0 with NaN"
   ]
  },
  {
   "cell_type": "code",
   "execution_count": 686,
   "id": "751d6982-5c17-4cb6-b119-27fdbf521ce5",
   "metadata": {},
   "outputs": [],
   "source": [
    "# Replace 99.0 with NaN\n",
    "df['quintile'] = df['quintile'].replace(99.0, np.nan)"
   ]
  },
  {
   "cell_type": "code",
   "execution_count": 687,
   "id": "502b358e-b1ca-43e1-a42f-c22d4f727255",
   "metadata": {},
   "outputs": [
    {
     "data": {
      "text/html": [
       "<div>\n",
       "<style scoped>\n",
       "    .dataframe tbody tr th:only-of-type {\n",
       "        vertical-align: middle;\n",
       "    }\n",
       "\n",
       "    .dataframe tbody tr th {\n",
       "        vertical-align: top;\n",
       "    }\n",
       "\n",
       "    .dataframe thead th {\n",
       "        text-align: right;\n",
       "    }\n",
       "</style>\n",
       "<table border=\"1\" class=\"dataframe\">\n",
       "  <thead>\n",
       "    <tr style=\"text-align: right;\">\n",
       "      <th></th>\n",
       "      <th>emis</th>\n",
       "      <th>centre_no</th>\n",
       "      <th>name</th>\n",
       "      <th>quintile</th>\n",
       "      <th>wrote_2014</th>\n",
       "      <th>passed_2014</th>\n",
       "      <th>perc_2014</th>\n",
       "      <th>progressed_2015</th>\n",
       "      <th>wrote_2015</th>\n",
       "      <th>passed_2015</th>\n",
       "      <th>perc_2015</th>\n",
       "      <th>progressed_2016</th>\n",
       "      <th>wrote_2016</th>\n",
       "      <th>passed_2016</th>\n",
       "      <th>perc_2016</th>\n",
       "    </tr>\n",
       "  </thead>\n",
       "  <tbody>\n",
       "    <tr>\n",
       "      <th>0</th>\n",
       "      <td>200300003</td>\n",
       "      <td>4161001</td>\n",
       "      <td>AMABELE SENIOR SECONDARY SCHOOL</td>\n",
       "      <td>1.0</td>\n",
       "      <td>37.0</td>\n",
       "      <td>14.0</td>\n",
       "      <td>37.8</td>\n",
       "      <td>0.0</td>\n",
       "      <td>38.0</td>\n",
       "      <td>29.0</td>\n",
       "      <td>76.3</td>\n",
       "      <td>12</td>\n",
       "      <td>51</td>\n",
       "      <td>36</td>\n",
       "      <td>70.6</td>\n",
       "    </tr>\n",
       "    <tr>\n",
       "      <th>1</th>\n",
       "      <td>200300869</td>\n",
       "      <td>4161002</td>\n",
       "      <td>BETHEL COLLEGE HIGH SCHOOL</td>\n",
       "      <td>NaN</td>\n",
       "      <td>59.0</td>\n",
       "      <td>42.0</td>\n",
       "      <td>71.2</td>\n",
       "      <td>3.0</td>\n",
       "      <td>46.0</td>\n",
       "      <td>31.0</td>\n",
       "      <td>67.4</td>\n",
       "      <td>0</td>\n",
       "      <td>34</td>\n",
       "      <td>24</td>\n",
       "      <td>70.6</td>\n",
       "    </tr>\n",
       "    <tr>\n",
       "      <th>2</th>\n",
       "      <td>200300024</td>\n",
       "      <td>4161003</td>\n",
       "      <td>BLYTHSWOOD INSTITUTION</td>\n",
       "      <td>3.0</td>\n",
       "      <td>80.0</td>\n",
       "      <td>50.0</td>\n",
       "      <td>62.5</td>\n",
       "      <td>12.0</td>\n",
       "      <td>81.0</td>\n",
       "      <td>34.0</td>\n",
       "      <td>42.0</td>\n",
       "      <td>7</td>\n",
       "      <td>101</td>\n",
       "      <td>59</td>\n",
       "      <td>58.4</td>\n",
       "    </tr>\n",
       "    <tr>\n",
       "      <th>3</th>\n",
       "      <td>200300033</td>\n",
       "      <td>4161048</td>\n",
       "      <td>BONGOLETHU SENIOR SECONDARY SCHOOL</td>\n",
       "      <td>2.0</td>\n",
       "      <td>26.0</td>\n",
       "      <td>13.0</td>\n",
       "      <td>50.0</td>\n",
       "      <td>2.0</td>\n",
       "      <td>35.0</td>\n",
       "      <td>11.0</td>\n",
       "      <td>31.4</td>\n",
       "      <td>0</td>\n",
       "      <td>24</td>\n",
       "      <td>9</td>\n",
       "      <td>37.5</td>\n",
       "    </tr>\n",
       "    <tr>\n",
       "      <th>4</th>\n",
       "      <td>200300741</td>\n",
       "      <td>4161037</td>\n",
       "      <td>BUTTERWORTH HIGH SCHOOL</td>\n",
       "      <td>4.0</td>\n",
       "      <td>81.0</td>\n",
       "      <td>61.0</td>\n",
       "      <td>75.3</td>\n",
       "      <td>4.0</td>\n",
       "      <td>85.0</td>\n",
       "      <td>78.0</td>\n",
       "      <td>91.8</td>\n",
       "      <td>0</td>\n",
       "      <td>84</td>\n",
       "      <td>77</td>\n",
       "      <td>91.7</td>\n",
       "    </tr>\n",
       "  </tbody>\n",
       "</table>\n",
       "</div>"
      ],
      "text/plain": [
       "        emis  centre_no                                name  quintile  \\\n",
       "0  200300003    4161001     AMABELE SENIOR SECONDARY SCHOOL       1.0   \n",
       "1  200300869    4161002          BETHEL COLLEGE HIGH SCHOOL       NaN   \n",
       "2  200300024    4161003              BLYTHSWOOD INSTITUTION       3.0   \n",
       "3  200300033    4161048  BONGOLETHU SENIOR SECONDARY SCHOOL       2.0   \n",
       "4  200300741    4161037             BUTTERWORTH HIGH SCHOOL       4.0   \n",
       "\n",
       "   wrote_2014  passed_2014  perc_2014  progressed_2015  wrote_2015  \\\n",
       "0        37.0         14.0       37.8              0.0        38.0   \n",
       "1        59.0         42.0       71.2              3.0        46.0   \n",
       "2        80.0         50.0       62.5             12.0        81.0   \n",
       "3        26.0         13.0       50.0              2.0        35.0   \n",
       "4        81.0         61.0       75.3              4.0        85.0   \n",
       "\n",
       "   passed_2015  perc_2015  progressed_2016  wrote_2016  passed_2016  perc_2016  \n",
       "0         29.0       76.3               12          51           36       70.6  \n",
       "1         31.0       67.4                0          34           24       70.6  \n",
       "2         34.0       42.0                7         101           59       58.4  \n",
       "3         11.0       31.4                0          24            9       37.5  \n",
       "4         78.0       91.8                0          84           77       91.7  "
      ]
     },
     "execution_count": 687,
     "metadata": {},
     "output_type": "execute_result"
    }
   ],
   "source": [
    "df.head()"
   ]
  },
  {
   "cell_type": "markdown",
   "id": "937e76be-b53c-44a6-998b-66e93cac81c0",
   "metadata": {},
   "source": [
    "# Check for missing data"
   ]
  },
  {
   "cell_type": "markdown",
   "id": "8b03b405-5ea4-466a-b2e0-1eaccf0116bd",
   "metadata": {},
   "source": [
    "Before droping any columns, I want to address the missing data first, because I can use the columns to understand how to deal with any missing data"
   ]
  },
  {
   "cell_type": "code",
   "execution_count": 688,
   "id": "09c2c6b9-4b3b-4085-98d5-2bbd32b2ba2e",
   "metadata": {},
   "outputs": [
    {
     "data": {
      "text/plain": [
       "<AxesSubplot:>"
      ]
     },
     "execution_count": 688,
     "metadata": {},
     "output_type": "execute_result"
    },
    {
     "data": {
      "image/png": "[encoded data removed]",
      "text/plain": [
       "<Figure size 1800x720 with 2 Axes>"
      ]
     },
     "metadata": {},
     "output_type": "display_data"
    }
   ],
   "source": [
    "missingno.matrix(df)"
   ]
  },
  {
   "cell_type": "code",
   "execution_count": 689,
   "id": "1856de95-1449-4c0c-abaf-168dc3b595b2",
   "metadata": {},
   "outputs": [
    {
     "data": {
      "text/plain": [
       "name                0\n",
       "quintile           65\n",
       "wrote_2014         41\n",
       "passed_2014        41\n",
       "perc_2014           2\n",
       "progressed_2015    20\n",
       "wrote_2015         20\n",
       "passed_2015        20\n",
       "perc_2015          20\n",
       "progressed_2016     0\n",
       "wrote_2016          0\n",
       "passed_2016         0\n",
       "perc_2016           0\n",
       "dtype: int64"
      ]
     },
     "execution_count": 689,
     "metadata": {},
     "output_type": "execute_result"
    }
   ],
   "source": [
    "# since i will be dropping certain columns that we wont need later, i will check missing data\n",
    "# in only the columns i will use\n",
    "miss_df = df[['name','quintile', 'wrote_2014', 'passed_2014',\n",
    "       'perc_2014', 'progressed_2015', 'wrote_2015', 'passed_2015',\n",
    "       'perc_2015', 'progressed_2016', 'wrote_2016', 'passed_2016',\n",
    "       'perc_2016']]\n",
    "\n",
    "# These are what Missing\n",
    "missing_data = miss_df.isnull().sum()\n",
    "missing_data"
   ]
  },
  {
   "cell_type": "code",
   "execution_count": 690,
   "id": "a77e2b31-9c4b-4ef3-b897-b65e25562031",
   "metadata": {},
   "outputs": [
    {
     "data": {
      "text/plain": [
       "1.79"
      ]
     },
     "execution_count": 690,
     "metadata": {},
     "output_type": "execute_result"
    }
   ],
   "source": [
    "# get the number of cells in the dataframe\n",
    "total_cells = np.product(miss_df.shape)\n",
    "\n",
    "# sum the total of cells with missing data\n",
    "total_missing = missing_data.sum()\n",
    "\n",
    "# round the output by 2 decimal places\n",
    "round((total_missing/total_cells)*100, 2)"
   ]
  },
  {
   "cell_type": "markdown",
   "id": "5a63c700-2f8c-41e9-90cb-3161af2439ae",
   "metadata": {},
   "source": [
    "With this small amount of missing data I can remove all the rows and be able to run analysis on the data available. These schools are are independant and since theres no regional category, all these schools are taken as a whole. So the data can then be assesed on what is available, droping 1.8% of the data, will not bias the data significantly."
   ]
  },
  {
   "cell_type": "code",
   "execution_count": 691,
   "id": "73fdad8c-f3ce-43e8-b6a1-d0f36f496010",
   "metadata": {},
   "outputs": [],
   "source": [
    "# drop all NaN rows\n",
    "df.dropna(inplace = True)"
   ]
  },
  {
   "cell_type": "markdown",
   "id": "de6d455e-c5d8-4884-82e8-08ca5e52e626",
   "metadata": {},
   "source": [
    "# Columns to drop"
   ]
  },
  {
   "cell_type": "markdown",
   "id": "cfd0320f-1d90-40ce-a369-8727dfea8881",
   "metadata": {},
   "source": [
    "These columns can be dropped as they do not serve any statistical purpose, only for referencing the data:\n",
    "\n",
    "emis, centre_no, progressed 2015 and 2016 - won't drop name now because it will be used to find out the top schools in SA"
   ]
  },
  {
   "cell_type": "code",
   "execution_count": 692,
   "id": "5ba20543-e8d2-4327-976c-4b2b75813a1b",
   "metadata": {},
   "outputs": [],
   "source": [
    "# function to delete columns\n",
    "def column_drop(dframe, column):\n",
    "    return dframe.drop(column, axis = 1, inplace = True)\n",
    "\n",
    "# list of columns to drop\n",
    "columns_to_drop = ['emis', 'centre_no', 'progressed_2015', 'progressed_2016']\n",
    "\n",
    "# loop to iterate through the list of columns to drop in place\n",
    "for item in columns_to_drop:\n",
    "    column_drop(dframe = df, column = item)"
   ]
  },
  {
   "cell_type": "code",
   "execution_count": 693,
   "id": "bfe43ffc-89b8-4d74-a3cb-974c5c65ac6d",
   "metadata": {},
   "outputs": [
    {
     "data": {
      "text/html": [
       "<div>\n",
       "<style scoped>\n",
       "    .dataframe tbody tr th:only-of-type {\n",
       "        vertical-align: middle;\n",
       "    }\n",
       "\n",
       "    .dataframe tbody tr th {\n",
       "        vertical-align: top;\n",
       "    }\n",
       "\n",
       "    .dataframe thead th {\n",
       "        text-align: right;\n",
       "    }\n",
       "</style>\n",
       "<table border=\"1\" class=\"dataframe\">\n",
       "  <thead>\n",
       "    <tr style=\"text-align: right;\">\n",
       "      <th></th>\n",
       "      <th>name</th>\n",
       "      <th>quintile</th>\n",
       "      <th>wrote_2014</th>\n",
       "      <th>passed_2014</th>\n",
       "      <th>perc_2014</th>\n",
       "      <th>wrote_2015</th>\n",
       "      <th>passed_2015</th>\n",
       "      <th>perc_2015</th>\n",
       "      <th>wrote_2016</th>\n",
       "      <th>passed_2016</th>\n",
       "      <th>perc_2016</th>\n",
       "    </tr>\n",
       "  </thead>\n",
       "  <tbody>\n",
       "    <tr>\n",
       "      <th>0</th>\n",
       "      <td>AMABELE SENIOR SECONDARY SCHOOL</td>\n",
       "      <td>1.0</td>\n",
       "      <td>37.0</td>\n",
       "      <td>14.0</td>\n",
       "      <td>37.8</td>\n",
       "      <td>38.0</td>\n",
       "      <td>29.0</td>\n",
       "      <td>76.3</td>\n",
       "      <td>51</td>\n",
       "      <td>36</td>\n",
       "      <td>70.6</td>\n",
       "    </tr>\n",
       "    <tr>\n",
       "      <th>2</th>\n",
       "      <td>BLYTHSWOOD INSTITUTION</td>\n",
       "      <td>3.0</td>\n",
       "      <td>80.0</td>\n",
       "      <td>50.0</td>\n",
       "      <td>62.5</td>\n",
       "      <td>81.0</td>\n",
       "      <td>34.0</td>\n",
       "      <td>42.0</td>\n",
       "      <td>101</td>\n",
       "      <td>59</td>\n",
       "      <td>58.4</td>\n",
       "    </tr>\n",
       "    <tr>\n",
       "      <th>3</th>\n",
       "      <td>BONGOLETHU SENIOR SECONDARY SCHOOL</td>\n",
       "      <td>2.0</td>\n",
       "      <td>26.0</td>\n",
       "      <td>13.0</td>\n",
       "      <td>50.0</td>\n",
       "      <td>35.0</td>\n",
       "      <td>11.0</td>\n",
       "      <td>31.4</td>\n",
       "      <td>24</td>\n",
       "      <td>9</td>\n",
       "      <td>37.5</td>\n",
       "    </tr>\n",
       "    <tr>\n",
       "      <th>4</th>\n",
       "      <td>BUTTERWORTH HIGH SCHOOL</td>\n",
       "      <td>4.0</td>\n",
       "      <td>81.0</td>\n",
       "      <td>61.0</td>\n",
       "      <td>75.3</td>\n",
       "      <td>85.0</td>\n",
       "      <td>78.0</td>\n",
       "      <td>91.8</td>\n",
       "      <td>84</td>\n",
       "      <td>77</td>\n",
       "      <td>91.7</td>\n",
       "    </tr>\n",
       "    <tr>\n",
       "      <th>6</th>\n",
       "      <td>CUNNINGHAM SENIOR SECONSARY SCHOOL</td>\n",
       "      <td>3.0</td>\n",
       "      <td>61.0</td>\n",
       "      <td>22.0</td>\n",
       "      <td>36.1</td>\n",
       "      <td>51.0</td>\n",
       "      <td>27.0</td>\n",
       "      <td>52.9</td>\n",
       "      <td>64</td>\n",
       "      <td>35</td>\n",
       "      <td>54.7</td>\n",
       "    </tr>\n",
       "  </tbody>\n",
       "</table>\n",
       "</div>"
      ],
      "text/plain": [
       "                                 name  quintile  wrote_2014  passed_2014  \\\n",
       "0     AMABELE SENIOR SECONDARY SCHOOL       1.0        37.0         14.0   \n",
       "2              BLYTHSWOOD INSTITUTION       3.0        80.0         50.0   \n",
       "3  BONGOLETHU SENIOR SECONDARY SCHOOL       2.0        26.0         13.0   \n",
       "4             BUTTERWORTH HIGH SCHOOL       4.0        81.0         61.0   \n",
       "6  CUNNINGHAM SENIOR SECONSARY SCHOOL       3.0        61.0         22.0   \n",
       "\n",
       "   perc_2014  wrote_2015  passed_2015  perc_2015  wrote_2016  passed_2016  \\\n",
       "0       37.8        38.0         29.0       76.3          51           36   \n",
       "2       62.5        81.0         34.0       42.0         101           59   \n",
       "3       50.0        35.0         11.0       31.4          24            9   \n",
       "4       75.3        85.0         78.0       91.8          84           77   \n",
       "6       36.1        51.0         27.0       52.9          64           35   \n",
       "\n",
       "   perc_2016  \n",
       "0       70.6  \n",
       "2       58.4  \n",
       "3       37.5  \n",
       "4       91.7  \n",
       "6       54.7  "
      ]
     },
     "execution_count": 693,
     "metadata": {},
     "output_type": "execute_result"
    }
   ],
   "source": [
    "df.head()"
   ]
  },
  {
   "cell_type": "markdown",
   "id": "c2cb90fa-f1ea-40bf-a22e-e61ecd38b46d",
   "metadata": {},
   "source": [
    "# Convert Quintile column to category type"
   ]
  },
  {
   "cell_type": "code",
   "execution_count": 694,
   "id": "8539865e-55ee-4ae7-9f7c-9fb4fe04aa7a",
   "metadata": {},
   "outputs": [],
   "source": [
    "# Make a copy of the dataframe to work with and manipulate\n",
    "matrics = df.copy()"
   ]
  },
  {
   "cell_type": "code",
   "execution_count": 695,
   "id": "7b27b4c1-ad6c-497a-8f79-7093155b7031",
   "metadata": {},
   "outputs": [],
   "source": [
    "matrics['quintile_cat'] = matrics['quintile']\n",
    "\n",
    "# the quintile numbers to replace\n",
    "quintiles_num = [1.0, 2.0, 3.0, 4.0, 5.0]\n",
    "\n",
    "# The values that will be placed\n",
    "quintiles_cat = ['One', 'Two', 'Three', 'Four', 'Five']\n",
    "\n",
    "# loop to iterate through each row and apply the changes\n",
    "for item in range(len(quintiles_num)):\n",
    "    matrics['quintile_cat'] = matrics['quintile_cat'].replace(quintiles_num[item], quintiles_cat[item])"
   ]
  },
  {
   "cell_type": "code",
   "execution_count": 696,
   "id": "97876cc4-6ebf-4c7d-86ab-568da158c334",
   "metadata": {},
   "outputs": [
    {
     "data": {
      "text/plain": [
       "array(['One', 'Three', 'Two', 'Four', 'Five'], dtype=object)"
      ]
     },
     "execution_count": 696,
     "metadata": {},
     "output_type": "execute_result"
    }
   ],
   "source": [
    "matrics['quintile_cat'].unique()"
   ]
  },
  {
   "cell_type": "markdown",
   "id": "c97e8b2a-6ca6-4cb7-9699-3f5760cecbd4",
   "metadata": {},
   "source": [
    "#### ========================================================\n",
    "#    EDA (Exploratory Data Analysis)\n",
    "#### ========================================================"
   ]
  },
  {
   "cell_type": "markdown",
   "id": "4028c03d-4c54-43c1-9fd3-441338576c2a",
   "metadata": {},
   "source": [
    "Quintile 1 - 3 are usually schools that are free, while 4 and 5 and paid schools. ans the Main question here is, **does quintile of a school affect the pass rate? (the numbre of students passing)**"
   ]
  },
  {
   "cell_type": "code",
   "execution_count": 697,
   "id": "95437a1e-1c34-42be-b5e3-3609003a42c6",
   "metadata": {},
   "outputs": [
    {
     "data": {
      "text/html": [
       "<div>\n",
       "<style scoped>\n",
       "    .dataframe tbody tr th:only-of-type {\n",
       "        vertical-align: middle;\n",
       "    }\n",
       "\n",
       "    .dataframe tbody tr th {\n",
       "        vertical-align: top;\n",
       "    }\n",
       "\n",
       "    .dataframe thead th {\n",
       "        text-align: right;\n",
       "    }\n",
       "</style>\n",
       "<table border=\"1\" class=\"dataframe\">\n",
       "  <thead>\n",
       "    <tr style=\"text-align: right;\">\n",
       "      <th></th>\n",
       "      <th>quintile</th>\n",
       "      <th>wrote_2014</th>\n",
       "      <th>passed_2014</th>\n",
       "      <th>perc_2014</th>\n",
       "      <th>wrote_2015</th>\n",
       "      <th>passed_2015</th>\n",
       "      <th>perc_2015</th>\n",
       "      <th>wrote_2016</th>\n",
       "      <th>passed_2016</th>\n",
       "      <th>perc_2016</th>\n",
       "    </tr>\n",
       "  </thead>\n",
       "  <tbody>\n",
       "    <tr>\n",
       "      <th>count</th>\n",
       "      <td>886.00</td>\n",
       "      <td>886.00</td>\n",
       "      <td>886.00</td>\n",
       "      <td>886.00</td>\n",
       "      <td>886.00</td>\n",
       "      <td>886.00</td>\n",
       "      <td>886.00</td>\n",
       "      <td>886.00</td>\n",
       "      <td>886.00</td>\n",
       "      <td>886.00</td>\n",
       "    </tr>\n",
       "    <tr>\n",
       "      <th>mean</th>\n",
       "      <td>2.57</td>\n",
       "      <td>79.35</td>\n",
       "      <td>54.52</td>\n",
       "      <td>65.76</td>\n",
       "      <td>100.14</td>\n",
       "      <td>61.38</td>\n",
       "      <td>59.69</td>\n",
       "      <td>94.38</td>\n",
       "      <td>60.11</td>\n",
       "      <td>62.87</td>\n",
       "    </tr>\n",
       "    <tr>\n",
       "      <th>std</th>\n",
       "      <td>1.17</td>\n",
       "      <td>55.52</td>\n",
       "      <td>46.62</td>\n",
       "      <td>23.07</td>\n",
       "      <td>69.93</td>\n",
       "      <td>53.17</td>\n",
       "      <td>24.59</td>\n",
       "      <td>71.63</td>\n",
       "      <td>52.47</td>\n",
       "      <td>24.85</td>\n",
       "    </tr>\n",
       "    <tr>\n",
       "      <th>min</th>\n",
       "      <td>1.00</td>\n",
       "      <td>5.00</td>\n",
       "      <td>0.00</td>\n",
       "      <td>0.00</td>\n",
       "      <td>5.00</td>\n",
       "      <td>1.00</td>\n",
       "      <td>2.20</td>\n",
       "      <td>4.00</td>\n",
       "      <td>0.00</td>\n",
       "      <td>0.00</td>\n",
       "    </tr>\n",
       "    <tr>\n",
       "      <th>25%</th>\n",
       "      <td>2.00</td>\n",
       "      <td>40.00</td>\n",
       "      <td>21.00</td>\n",
       "      <td>49.70</td>\n",
       "      <td>50.00</td>\n",
       "      <td>23.00</td>\n",
       "      <td>39.40</td>\n",
       "      <td>43.00</td>\n",
       "      <td>21.00</td>\n",
       "      <td>43.65</td>\n",
       "    </tr>\n",
       "    <tr>\n",
       "      <th>50%</th>\n",
       "      <td>3.00</td>\n",
       "      <td>66.00</td>\n",
       "      <td>41.00</td>\n",
       "      <td>67.70</td>\n",
       "      <td>85.00</td>\n",
       "      <td>46.00</td>\n",
       "      <td>58.40</td>\n",
       "      <td>77.00</td>\n",
       "      <td>46.50</td>\n",
       "      <td>63.50</td>\n",
       "    </tr>\n",
       "    <tr>\n",
       "      <th>75%</th>\n",
       "      <td>3.00</td>\n",
       "      <td>103.75</td>\n",
       "      <td>74.00</td>\n",
       "      <td>85.00</td>\n",
       "      <td>132.00</td>\n",
       "      <td>84.00</td>\n",
       "      <td>80.00</td>\n",
       "      <td>126.00</td>\n",
       "      <td>81.00</td>\n",
       "      <td>85.25</td>\n",
       "    </tr>\n",
       "    <tr>\n",
       "      <th>max</th>\n",
       "      <td>5.00</td>\n",
       "      <td>416.00</td>\n",
       "      <td>343.00</td>\n",
       "      <td>100.00</td>\n",
       "      <td>648.00</td>\n",
       "      <td>428.00</td>\n",
       "      <td>100.00</td>\n",
       "      <td>707.00</td>\n",
       "      <td>378.00</td>\n",
       "      <td>100.00</td>\n",
       "    </tr>\n",
       "  </tbody>\n",
       "</table>\n",
       "</div>"
      ],
      "text/plain": [
       "       quintile  wrote_2014  passed_2014  perc_2014  wrote_2015  passed_2015  \\\n",
       "count    886.00      886.00       886.00     886.00      886.00       886.00   \n",
       "mean       2.57       79.35        54.52      65.76      100.14        61.38   \n",
       "std        1.17       55.52        46.62      23.07       69.93        53.17   \n",
       "min        1.00        5.00         0.00       0.00        5.00         1.00   \n",
       "25%        2.00       40.00        21.00      49.70       50.00        23.00   \n",
       "50%        3.00       66.00        41.00      67.70       85.00        46.00   \n",
       "75%        3.00      103.75        74.00      85.00      132.00        84.00   \n",
       "max        5.00      416.00       343.00     100.00      648.00       428.00   \n",
       "\n",
       "       perc_2015  wrote_2016  passed_2016  perc_2016  \n",
       "count     886.00      886.00       886.00     886.00  \n",
       "mean       59.69       94.38        60.11      62.87  \n",
       "std        24.59       71.63        52.47      24.85  \n",
       "min         2.20        4.00         0.00       0.00  \n",
       "25%        39.40       43.00        21.00      43.65  \n",
       "50%        58.40       77.00        46.50      63.50  \n",
       "75%        80.00      126.00        81.00      85.25  \n",
       "max       100.00      707.00       378.00     100.00  "
      ]
     },
     "execution_count": 697,
     "metadata": {},
     "output_type": "execute_result"
    }
   ],
   "source": [
    "# get the summary of the dataset\n",
    "round(matrics.describe(),2)"
   ]
  },
  {
   "cell_type": "code",
   "execution_count": 698,
   "id": "46c7c65c-6520-453f-987d-934ed5244b63",
   "metadata": {},
   "outputs": [],
   "source": [
    "# some lists\n",
    "years_list = ['perc_2014','perc_2015','perc_2016']"
   ]
  },
  {
   "cell_type": "markdown",
   "id": "77cc367f-03a7-499e-9940-c6a89a7bf300",
   "metadata": {},
   "source": [
    "# What's the average student perfomance per quintile over the years"
   ]
  },
  {
   "cell_type": "code",
   "execution_count": 699,
   "id": "e92fa8ed-b190-4a55-9e4b-e9dc3d580870",
   "metadata": {},
   "outputs": [],
   "source": [
    "# select the appropriate columns\n",
    "stu_p = matrics[['quintile_cat','quintile','perc_2014', 'perc_2015', 'perc_2016']].copy()"
   ]
  },
  {
   "cell_type": "code",
   "execution_count": 700,
   "id": "0cb9c5f4-17b7-4ca4-9a85-a599c21ac9d4",
   "metadata": {},
   "outputs": [
    {
     "data": {
      "text/plain": [
       "<matplotlib.legend.Legend at 0x1f665c76e80>"
      ]
     },
     "execution_count": 700,
     "metadata": {},
     "output_type": "execute_result"
    },
    {
     "data": {
      "image/png": "[encoded data removed]",
      "text/plain": [
       "<Figure size 1080x432 with 1 Axes>"
      ]
     },
     "metadata": {},
     "output_type": "display_data"
    }
   ],
   "source": [
    "# This method allowed to put the numerical data in numerical order\n",
    "stu_p.quintile = pd.to_numeric(stu_p.quintile, errors ='coerce')\n",
    "\n",
    "# group the data by quintile\n",
    "ax = stu_p.groupby('quintile').mean()\n",
    "\n",
    "# create the bar plot\n",
    "ax = ax.plot.bar(rot = 0, figsize=(15,6))\n",
    "\n",
    "# set axis labels and legends\n",
    "ax.set_ylabel('Percentage')\n",
    "ax.set_xlabel('School Quintile')\n",
    "ax.legend([2014, 2015, 2016], title='Year')"
   ]
  },
  {
   "cell_type": "markdown",
   "id": "cef3ff63-d0ec-4468-9b5f-d1f82b8bb4b6",
   "metadata": {},
   "source": [
    "# Top 10 schools in South Africa with the highest pass rates over the years, based on the number of enrolled students"
   ]
  },
  {
   "cell_type": "code",
   "execution_count": 701,
   "id": "3f0739d3-28ad-4e05-a0de-bfd208784419",
   "metadata": {},
   "outputs": [],
   "source": [
    "# Declare the empy dataframes\n",
    "schools_2014 = pd.DataFrame()\n",
    "schools_2015 = pd.DataFrame()\n",
    "schools_2016 = pd.DataFrame()"
   ]
  },
  {
   "cell_type": "code",
   "execution_count": 702,
   "id": "e8f3308e-b6cf-40cb-a473-97f993038221",
   "metadata": {},
   "outputs": [],
   "source": [
    "# list containing the specific columns and dataframes\n",
    "wrote_year = ['wrote_2014','wrote_2015','wrote_2016']\n",
    "perc_year = ['perc_2014','perc_2015','perc_2016']\n",
    "school = [schools_2014, schools_2015, schools_2016]"
   ]
  },
  {
   "cell_type": "code",
   "execution_count": 703,
   "id": "0f6bdad0-3071-4547-806a-baa088e26900",
   "metadata": {},
   "outputs": [],
   "source": [
    "# loop to iterate through each column, selecting and ordering the columns in order of number of students and\n",
    "# pass rate\n",
    "for index in range(len(wrote_year)):\n",
    "        \n",
    "    # selecting and ordering the columns in order of number of students and pass rate\n",
    "    school[index] = matrics[['quintile','name',wrote_year[index],perc_year[index]]\n",
    "                           ].sort_values(by=[perc_year[index],wrote_year[index]\n",
    "                                            ],ascending=[False,False]).head(10).copy()\n",
    "        \n",
    "    # reseting the index so as to assign a common index to each set per year\n",
    "    school[index] = school[index].reset_index()\n",
    "\n",
    "# create the data frame\n",
    "top_schools = pd.DataFrame({'2014':school[0]['name'],\n",
    "                            'Q_2014':school[0]['quintile'],\n",
    "                            '2015':school[1]['name'],\n",
    "                            'Q_2015':school[1]['quintile'],\n",
    "                            '2016':school[2]['name'],\n",
    "                            'Q_2016':school[2]['quintile'],\n",
    "                           })"
   ]
  },
  {
   "cell_type": "code",
   "execution_count": 704,
   "id": "16ce5f29-fa06-4eb2-acb3-f45c809c7d59",
   "metadata": {},
   "outputs": [
    {
     "data": {
      "text/html": [
       "<div>\n",
       "<style scoped>\n",
       "    .dataframe tbody tr th:only-of-type {\n",
       "        vertical-align: middle;\n",
       "    }\n",
       "\n",
       "    .dataframe tbody tr th {\n",
       "        vertical-align: top;\n",
       "    }\n",
       "\n",
       "    .dataframe thead th {\n",
       "        text-align: right;\n",
       "    }\n",
       "</style>\n",
       "<table border=\"1\" class=\"dataframe\">\n",
       "  <thead>\n",
       "    <tr style=\"text-align: right;\">\n",
       "      <th></th>\n",
       "      <th>2014</th>\n",
       "      <th>Q_2014</th>\n",
       "      <th>2015</th>\n",
       "      <th>Q_2015</th>\n",
       "      <th>2016</th>\n",
       "      <th>Q_2016</th>\n",
       "    </tr>\n",
       "  </thead>\n",
       "  <tbody>\n",
       "    <tr>\n",
       "      <th>0</th>\n",
       "      <td>HUDSON PARK HIGH SCHOOL</td>\n",
       "      <td>5.0</td>\n",
       "      <td>CAMBRIDGE HIGH SCHOOL</td>\n",
       "      <td>5.0</td>\n",
       "      <td>PEARSON HIGH SCHOOL</td>\n",
       "      <td>5.0</td>\n",
       "    </tr>\n",
       "    <tr>\n",
       "      <th>1</th>\n",
       "      <td>STIRLING HIGH SCHOOL</td>\n",
       "      <td>5.0</td>\n",
       "      <td>FICHARDTPARK SS</td>\n",
       "      <td>5.0</td>\n",
       "      <td>FICHARDTPARK SS</td>\n",
       "      <td>5.0</td>\n",
       "    </tr>\n",
       "    <tr>\n",
       "      <th>2</th>\n",
       "      <td>FICHARDTPARK SS</td>\n",
       "      <td>5.0</td>\n",
       "      <td>GREY BOYS SCHOOL</td>\n",
       "      <td>5.0</td>\n",
       "      <td>VICTORIA PARK HIGH SCHOOL</td>\n",
       "      <td>5.0</td>\n",
       "    </tr>\n",
       "    <tr>\n",
       "      <th>3</th>\n",
       "      <td>EUNICE SS</td>\n",
       "      <td>5.0</td>\n",
       "      <td>WESTERING HIGH SCHOOL</td>\n",
       "      <td>5.0</td>\n",
       "      <td>CAMBRIDGE HIGH SCHOOL</td>\n",
       "      <td>5.0</td>\n",
       "    </tr>\n",
       "    <tr>\n",
       "      <th>4</th>\n",
       "      <td>PEARSON HIGH SCHOOL</td>\n",
       "      <td>5.0</td>\n",
       "      <td>PEARSON HIGH SCHOOL</td>\n",
       "      <td>5.0</td>\n",
       "      <td>GOUDVELD SS</td>\n",
       "      <td>5.0</td>\n",
       "    </tr>\n",
       "    <tr>\n",
       "      <th>5</th>\n",
       "      <td>WESTERING HIGH SCHOOL</td>\n",
       "      <td>5.0</td>\n",
       "      <td>EUNICE SS</td>\n",
       "      <td>5.0</td>\n",
       "      <td>WESTERING HIGH SCHOOL</td>\n",
       "      <td>5.0</td>\n",
       "    </tr>\n",
       "    <tr>\n",
       "      <th>6</th>\n",
       "      <td>GREY BOYS SCHOOL</td>\n",
       "      <td>5.0</td>\n",
       "      <td>C EN N H MEISIESKOOL ORANJE</td>\n",
       "      <td>5.0</td>\n",
       "      <td>EUNICE SS</td>\n",
       "      <td>5.0</td>\n",
       "    </tr>\n",
       "    <tr>\n",
       "      <th>7</th>\n",
       "      <td>ST PATRICKS SENIOR SECONDARY SCHOOL</td>\n",
       "      <td>3.0</td>\n",
       "      <td>HOeRSKOOL NICO MALAN</td>\n",
       "      <td>5.0</td>\n",
       "      <td>SASOLBURG SS</td>\n",
       "      <td>5.0</td>\n",
       "    </tr>\n",
       "    <tr>\n",
       "      <th>8</th>\n",
       "      <td>CLARENDON GIRLS HIGH SCHOOL</td>\n",
       "      <td>5.0</td>\n",
       "      <td>SELBORNE COLLEGE BOYS HIGH</td>\n",
       "      <td>2.0</td>\n",
       "      <td>C EN N H MEISIESKOOL ORANJE</td>\n",
       "      <td>5.0</td>\n",
       "    </tr>\n",
       "    <tr>\n",
       "      <th>9</th>\n",
       "      <td>C EN N H MEISIESKOOL ORANJE</td>\n",
       "      <td>5.0</td>\n",
       "      <td>CLARENDON GIRLS HIGH SCHOOL</td>\n",
       "      <td>5.0</td>\n",
       "      <td>CLARENDON GIRLS HIGH SCHOOL</td>\n",
       "      <td>5.0</td>\n",
       "    </tr>\n",
       "  </tbody>\n",
       "</table>\n",
       "</div>"
      ],
      "text/plain": [
       "                                  2014  Q_2014                         2015  \\\n",
       "0              HUDSON PARK HIGH SCHOOL     5.0        CAMBRIDGE HIGH SCHOOL   \n",
       "1                 STIRLING HIGH SCHOOL     5.0              FICHARDTPARK SS   \n",
       "2                      FICHARDTPARK SS     5.0             GREY BOYS SCHOOL   \n",
       "3                            EUNICE SS     5.0        WESTERING HIGH SCHOOL   \n",
       "4                  PEARSON HIGH SCHOOL     5.0          PEARSON HIGH SCHOOL   \n",
       "5                WESTERING HIGH SCHOOL     5.0                    EUNICE SS   \n",
       "6                     GREY BOYS SCHOOL     5.0  C EN N H MEISIESKOOL ORANJE   \n",
       "7  ST PATRICKS SENIOR SECONDARY SCHOOL     3.0         HOeRSKOOL NICO MALAN   \n",
       "8          CLARENDON GIRLS HIGH SCHOOL     5.0   SELBORNE COLLEGE BOYS HIGH   \n",
       "9          C EN N H MEISIESKOOL ORANJE     5.0  CLARENDON GIRLS HIGH SCHOOL   \n",
       "\n",
       "   Q_2015                         2016  Q_2016  \n",
       "0     5.0          PEARSON HIGH SCHOOL     5.0  \n",
       "1     5.0              FICHARDTPARK SS     5.0  \n",
       "2     5.0    VICTORIA PARK HIGH SCHOOL     5.0  \n",
       "3     5.0        CAMBRIDGE HIGH SCHOOL     5.0  \n",
       "4     5.0                  GOUDVELD SS     5.0  \n",
       "5     5.0        WESTERING HIGH SCHOOL     5.0  \n",
       "6     5.0                    EUNICE SS     5.0  \n",
       "7     5.0                 SASOLBURG SS     5.0  \n",
       "8     2.0  C EN N H MEISIESKOOL ORANJE     5.0  \n",
       "9     5.0  CLARENDON GIRLS HIGH SCHOOL     5.0  "
      ]
     },
     "execution_count": 704,
     "metadata": {},
     "output_type": "execute_result"
    }
   ],
   "source": [
    "top_schools"
   ]
  },
  {
   "cell_type": "markdown",
   "id": "0b3b939a-c57f-41dd-a981-97fb61824612",
   "metadata": {},
   "source": [
    "# Does increasing quintile have an increase in student pass rate?"
   ]
  },
  {
   "cell_type": "code",
   "execution_count": 705,
   "id": "a294c781-6b73-41df-8631-abb7ffd40e81",
   "metadata": {},
   "outputs": [
    {
     "data": {
      "text/plain": [
       "<seaborn.axisgrid.FacetGrid at 0x1f66780ab80>"
      ]
     },
     "execution_count": 705,
     "metadata": {},
     "output_type": "execute_result"
    },
    {
     "data": {
      "image/png": "[encoded data removed]",
      "text/plain": [
       "<Figure size 1134.97x720 with 5 Axes>"
      ]
     },
     "metadata": {},
     "output_type": "display_data"
    }
   ],
   "source": [
    "# create relplot of studenst that passed and wrote in 2016 grouped per quintile\n",
    "sns.relplot(x = \"wrote_2016\", y=\"passed_2016\", col=\"quintile\",\n",
    "           hue=\"quintile\", style=\"quintile\", data = matrics, col_wrap=3)"
   ]
  },
  {
   "cell_type": "code",
   "execution_count": 706,
   "id": "f87b8076-6fc0-4f17-bc14-f5d012f2f8bf",
   "metadata": {},
   "outputs": [
    {
     "data": {
      "image/png": "[encoded data removed]",
      "text/plain": [
       "<Figure size 504x504 with 1 Axes>"
      ]
     },
     "metadata": {},
     "output_type": "display_data"
    }
   ],
   "source": [
    "# create box plot\n",
    "with sns.axes_style(style='ticks'):\n",
    "    g = sns.catplot(x='quintile', y='perc_2016', data=pass_rates,\n",
    "                      kind = 'box', height=7)\n",
    "    g.set_axis_labels('Quintile', 'Total Bill')"
   ]
  },
  {
   "cell_type": "markdown",
   "id": "bfcaffc8-b232-4cd3-93ed-337a095f1409",
   "metadata": {},
   "source": [
    "# How do quintile 4 and 5 school pass rates compare from 2014 to 2016 with other quintile schools"
   ]
  },
  {
   "cell_type": "code",
   "execution_count": 707,
   "id": "bce86d47-918e-489b-b27d-24088dd8a152",
   "metadata": {},
   "outputs": [],
   "source": [
    "# Select the appropriate columns\n",
    "pass_rate = matrics[['quintile','perc_2014', 'perc_2015', 'perc_2016']].copy()\n",
    "\n",
    "# each double row represents the pass rates per quintile selected by condition\n",
    "g1 = pass_rate[pass_rate['quintile']==1.0].copy()\n",
    "g1 = g1[['perc_2014', 'perc_2015', 'perc_2016']]\n",
    "\n",
    "g2 = pass_rate[pass_rate['quintile']==2.0].copy()\n",
    "g2 = g2[['perc_2014', 'perc_2015', 'perc_2016']]\n",
    "\n",
    "g3 = pass_rate[pass_rate['quintile']==3.0]\n",
    "g3 = g3[['perc_2014', 'perc_2015', 'perc_2016']]\n",
    "\n",
    "g4 = pass_rate[pass_rate['quintile']==4.0]\n",
    "g4 = g4[['perc_2014', 'perc_2015', 'perc_2016']]\n",
    "\n",
    "g5 = pass_rate[pass_rate['quintile']==5.0]\n",
    "g5 = g5[['perc_2014', 'perc_2015', 'perc_2016']]"
   ]
  },
  {
   "cell_type": "code",
   "execution_count": 708,
   "id": "8fa0a318-505a-47d2-b567-e86a9910eddf",
   "metadata": {},
   "outputs": [
    {
     "data": {
      "text/plain": [
       "Text(0.5, 1.0, 'Quintile Three')"
      ]
     },
     "execution_count": 708,
     "metadata": {},
     "output_type": "execute_result"
    },
    {
     "data": {
      "image/png": "[encoded data removed]",
      "text/plain": [
       "<Figure size 1080x360 with 3 Axes>"
      ]
     },
     "metadata": {},
     "output_type": "display_data"
    }
   ],
   "source": [
    "# create the figure, subplots and title\n",
    "fig, axes = plt.subplots(1,3, figsize=(15,5), sharey=True)\n",
    "fig.suptitle('Comparing School pass rates per quintile')\n",
    "\n",
    "# create the Quintile one plot and assign to a subplot\n",
    "sns.boxplot(ax=axes[0], x='variable', y='value', data=pd.melt(g1))\n",
    "axes[0].set_xlabel('')\n",
    "axes[0].set_ylabel('')\n",
    "axes[0].set_title('Quintile One')\n",
    "\n",
    "# create the Quintile two plot and assign to a subplot\n",
    "sns.boxplot(ax=axes[1], x='variable', y='value', data=pd.melt(g2))\n",
    "axes[1].set_xlabel('')\n",
    "axes[1].set_ylabel('')\n",
    "axes[1].set_title('Quintile Two')\n",
    "\n",
    "# create the Quintile three plot and assign to a subplot\n",
    "sns.boxplot(ax=axes[2], x='variable', y='value', data=pd.melt(g3))\n",
    "axes[2].set_xlabel('')\n",
    "axes[2].set_ylabel('')\n",
    "axes[2].set_title('Quintile Three')"
   ]
  },
  {
   "cell_type": "code",
   "execution_count": 709,
   "id": "6258389b-8354-437e-a6cc-ffaaf58d6077",
   "metadata": {},
   "outputs": [
    {
     "data": {
      "text/plain": [
       "Text(0.5, 1.0, 'Quintile Five')"
      ]
     },
     "execution_count": 709,
     "metadata": {},
     "output_type": "execute_result"
    },
    {
     "data": {
      "image/png": "[encoded data removed]",
      "text/plain": [
       "<Figure size 1080x360 with 3 Axes>"
      ]
     },
     "metadata": {},
     "output_type": "display_data"
    }
   ],
   "source": [
    "# create sub plots\n",
    "fig, axes = plt.subplots(1,3, figsize=(15,5), sharey=True)\n",
    "\n",
    "# create the Quintile four plot and assign to a subplot\n",
    "sns.boxplot(ax=axes[0], x='variable', y='value', data=pd.melt(g4))\n",
    "axes[0].set_xlabel('')\n",
    "axes[0].set_ylabel('')\n",
    "axes[0].set_title('Quintile Four')\n",
    "\n",
    "# create the Quintile five plot and assign to a subplot\n",
    "sns.boxplot(ax=axes[1], x='variable', y='value', data=pd.melt(g5))\n",
    "axes[1].set_xlabel('')\n",
    "axes[1].set_ylabel('')\n",
    "axes[1].set_title('Quintile Five')\n"
   ]
  },
  {
   "cell_type": "markdown",
   "id": "7d504f51-16c9-4a24-b593-db35b349f2e7",
   "metadata": {},
   "source": [
    "# Whats the total number of students that passed matric over 3 years"
   ]
  },
  {
   "cell_type": "code",
   "execution_count": 710,
   "id": "6f25a763-6208-4bb0-bbfe-d16e38e0a484",
   "metadata": {},
   "outputs": [],
   "source": [
    "# select the appropriate columns\n",
    "pass_total = matrics[['passed_2014','passed_2015','passed_2016']].copy()\n",
    "\n",
    "# declare the variables\n",
    "year_2014, year_2015, year_2016 = 0,0,0\n",
    "a,b,c,d,e,f = 0,0,0,0,0,0"
   ]
  },
  {
   "cell_type": "code",
   "execution_count": 711,
   "id": "d1dbab0c-c516-4480-a65d-d115950f819c",
   "metadata": {},
   "outputs": [],
   "source": [
    "# list containing the specific columns and dataframes\n",
    "wrote_year = ['wrote_2014','wrote_2015','wrote_2016']\n",
    "pass_year = ['passed_2014','passed_2015','passed_2016']\n",
    "year_total_passed = [year_2014, year_2015, year_2016]\n",
    "year_total_not = [a, b, c]\n",
    "year_perc = [d,e,f]\n",
    "\n",
    "# for loop which calculates for each year\n",
    "for index in range(3):\n",
    "    \n",
    "    # get the number of students that passed per year\n",
    "    year_total_passed[index] = matrics[pass_year[index]].sum()\n",
    "    \n",
    "    # get the total number of studenst that did not pass per year\n",
    "    year_total_not[index] = (matrics[wrote_year[index]].sum()) - (matrics[pass_year[index]].sum())\n",
    "    \n",
    "    # get the total percent that passed per year\n",
    "    year_perc[index] = round((((matrics[pass_year[index]].sum()) / (matrics[wrote_year[index]].sum()))*100),2)\n",
    "\n"
   ]
  },
  {
   "cell_type": "code",
   "execution_count": 712,
   "id": "41a55d45-d05d-4ea4-a283-3ee7dc847934",
   "metadata": {},
   "outputs": [
    {
     "data": {
      "text/html": [
       "<div>\n",
       "<style scoped>\n",
       "    .dataframe tbody tr th:only-of-type {\n",
       "        vertical-align: middle;\n",
       "    }\n",
       "\n",
       "    .dataframe tbody tr th {\n",
       "        vertical-align: top;\n",
       "    }\n",
       "\n",
       "    .dataframe thead th {\n",
       "        text-align: right;\n",
       "    }\n",
       "</style>\n",
       "<table border=\"1\" class=\"dataframe\">\n",
       "  <thead>\n",
       "    <tr style=\"text-align: right;\">\n",
       "      <th></th>\n",
       "      <th>Passed</th>\n",
       "      <th>Not</th>\n",
       "      <th>Perc Passed</th>\n",
       "    </tr>\n",
       "  </thead>\n",
       "  <tbody>\n",
       "    <tr>\n",
       "      <th>2014</th>\n",
       "      <td>48309.0</td>\n",
       "      <td>21998.0</td>\n",
       "      <td>68.71</td>\n",
       "    </tr>\n",
       "    <tr>\n",
       "      <th>2015</th>\n",
       "      <td>54381.0</td>\n",
       "      <td>34343.0</td>\n",
       "      <td>61.29</td>\n",
       "    </tr>\n",
       "    <tr>\n",
       "      <th>2016</th>\n",
       "      <td>53254.0</td>\n",
       "      <td>30371.0</td>\n",
       "      <td>63.68</td>\n",
       "    </tr>\n",
       "  </tbody>\n",
       "</table>\n",
       "</div>"
      ],
      "text/plain": [
       "       Passed      Not  Perc Passed\n",
       "2014  48309.0  21998.0        68.71\n",
       "2015  54381.0  34343.0        61.29\n",
       "2016  53254.0  30371.0        63.68"
      ]
     },
     "execution_count": 712,
     "metadata": {},
     "output_type": "execute_result"
    }
   ],
   "source": [
    "# Create the dataframe of the data from above\n",
    "pass_total = pd.DataFrame({'Passed': year_total_passed,\n",
    "                           'Not': year_total_not,\n",
    "                            'Perc Passed': year_perc\n",
    "                          }, index=['2014','2015', '2016'])\n",
    "pass_total"
   ]
  },
  {
   "cell_type": "code",
   "execution_count": 713,
   "id": "94ec062e-e826-42d0-b0d1-57ab0a209496",
   "metadata": {},
   "outputs": [
    {
     "data": {
      "text/plain": [
       "<AxesSubplot:>"
      ]
     },
     "execution_count": 713,
     "metadata": {},
     "output_type": "execute_result"
    },
    {
     "data": {
      "image/png": "[encoded data removed]",
      "text/plain": [
       "<Figure size 864x360 with 1 Axes>"
      ]
     },
     "metadata": {},
     "output_type": "display_data"
    }
   ],
   "source": [
    "# display the data in a horizontal bar graph\n",
    "pass_total[['Passed', 'Not']].plot.barh(rot=0, figsize=(12,5))"
   ]
  },
  {
   "cell_type": "markdown",
   "id": "64a38136-0384-49dc-967a-3da6abc88f41",
   "metadata": {},
   "source": [
    "# What are the portions of the students in each quintile?"
   ]
  },
  {
   "cell_type": "code",
   "execution_count": 714,
   "id": "8012dcb3-abe3-41de-9826-b3b4a23fc09e",
   "metadata": {},
   "outputs": [],
   "source": [
    "students = matrics[['quintile','wrote_2014','wrote_2015','wrote_2016']].copy()"
   ]
  },
  {
   "cell_type": "code",
   "execution_count": 715,
   "id": "78a63dc1-15e2-4425-879d-92bba1a16a6c",
   "metadata": {},
   "outputs": [
    {
     "data": {
      "text/html": [
       "<div>\n",
       "<style scoped>\n",
       "    .dataframe tbody tr th:only-of-type {\n",
       "        vertical-align: middle;\n",
       "    }\n",
       "\n",
       "    .dataframe tbody tr th {\n",
       "        vertical-align: top;\n",
       "    }\n",
       "\n",
       "    .dataframe thead th {\n",
       "        text-align: right;\n",
       "    }\n",
       "</style>\n",
       "<table border=\"1\" class=\"dataframe\">\n",
       "  <thead>\n",
       "    <tr style=\"text-align: right;\">\n",
       "      <th></th>\n",
       "      <th>wrote_2014</th>\n",
       "      <th>wrote_2015</th>\n",
       "      <th>wrote_2016</th>\n",
       "    </tr>\n",
       "    <tr>\n",
       "      <th>quintile</th>\n",
       "      <th></th>\n",
       "      <th></th>\n",
       "      <th></th>\n",
       "    </tr>\n",
       "  </thead>\n",
       "  <tbody>\n",
       "    <tr>\n",
       "      <th>One</th>\n",
       "      <td>16377.0</td>\n",
       "      <td>22900.0</td>\n",
       "      <td>22380</td>\n",
       "    </tr>\n",
       "    <tr>\n",
       "      <th>Two</th>\n",
       "      <td>13004.0</td>\n",
       "      <td>16811.0</td>\n",
       "      <td>15915</td>\n",
       "    </tr>\n",
       "    <tr>\n",
       "      <th>Three</th>\n",
       "      <td>28529.0</td>\n",
       "      <td>35396.0</td>\n",
       "      <td>32562</td>\n",
       "    </tr>\n",
       "    <tr>\n",
       "      <th>Four</th>\n",
       "      <td>3300.0</td>\n",
       "      <td>4147.0</td>\n",
       "      <td>3767</td>\n",
       "    </tr>\n",
       "    <tr>\n",
       "      <th>Five</th>\n",
       "      <td>9097.0</td>\n",
       "      <td>9470.0</td>\n",
       "      <td>9001</td>\n",
       "    </tr>\n",
       "  </tbody>\n",
       "</table>\n",
       "</div>"
      ],
      "text/plain": [
       "          wrote_2014  wrote_2015  wrote_2016\n",
       "quintile                                    \n",
       "One          16377.0     22900.0       22380\n",
       "Two          13004.0     16811.0       15915\n",
       "Three        28529.0     35396.0       32562\n",
       "Four          3300.0      4147.0        3767\n",
       "Five          9097.0      9470.0        9001"
      ]
     },
     "execution_count": 715,
     "metadata": {},
     "output_type": "execute_result"
    }
   ],
   "source": [
    "students = students.groupby('quintile').sum()\n",
    "students = students.rename(index={1.0: 'One', 2.0:'Two', 3.0:'Three', 4.0: 'Four', 5.0:'Five'})\n",
    "students"
   ]
  },
  {
   "cell_type": "code",
   "execution_count": 716,
   "id": "852134d8-0955-4b09-8eeb-8a455e4d68bb",
   "metadata": {},
   "outputs": [
    {
     "data": {
      "image/png": "[encoded data removed]",
      "text/plain": [
       "<Figure size 720x360 with 1 Axes>"
      ]
     },
     "metadata": {},
     "output_type": "display_data"
    }
   ],
   "source": [
    "# Groups of students\n",
    "groupOne = students['wrote_2014']\n",
    "groupTwo = students['wrote_2015']\n",
    "groupThree = students['wrote_2016']\n",
    "\n",
    "# Create the stacked area\n",
    "y = np.row_stack((groupOne,groupTwo,groupThree))\n",
    "x = students.index\n",
    "\n",
    "y1, y2, y3=(groupOne,groupTwo,groupThree)\n",
    "\n",
    "# create the subplot figure\n",
    "fig,ax = plt.subplots(figsize=(10,5))\n",
    "ax.stackplot(x,y)\n",
    "\n",
    "# format the graph\n",
    "plt.title(\"Number of students that wrote per quintile (2014 - 2016)\")\n",
    "plt.xlabel(\"Quintile (1 - 5)\")\n",
    "plt.ylabel(\"Students that Wrote\")\n",
    "\n",
    "\n",
    "plt.show()"
   ]
  },
  {
   "cell_type": "code",
   "execution_count": 717,
   "id": "c946939d-64f8-45d6-9546-266ae06f9f53",
   "metadata": {},
   "outputs": [
    {
     "data": {
      "text/plain": [
       "<AxesSubplot:xlabel='quintile'>"
      ]
     },
     "execution_count": 717,
     "metadata": {},
     "output_type": "execute_result"
    },
    {
     "data": {
      "image/png": "[encoded data removed]",
      "text/plain": [
       "<Figure size 432x288 with 1 Axes>"
      ]
     },
     "metadata": {},
     "output_type": "display_data"
    }
   ],
   "source": [
    "students.plot.bar()"
   ]
  },
  {
   "cell_type": "markdown",
   "id": "0e2f4b33-d1cd-4ff3-b317-63fa1df433aa",
   "metadata": {},
   "source": [
    "# What are the portions of schools in each quintile?"
   ]
  },
  {
   "cell_type": "code",
   "execution_count": 718,
   "id": "bd53257f-65ca-4e62-abea-0dfb7f09df86",
   "metadata": {},
   "outputs": [],
   "source": [
    "schools = matrics[['quintile','quintile_cat']].copy()"
   ]
  },
  {
   "cell_type": "code",
   "execution_count": 719,
   "id": "6b774420-a964-404e-bd19-e7b21a59acbc",
   "metadata": {},
   "outputs": [
    {
     "data": {
      "text/html": [
       "<div>\n",
       "<style scoped>\n",
       "    .dataframe tbody tr th:only-of-type {\n",
       "        vertical-align: middle;\n",
       "    }\n",
       "\n",
       "    .dataframe tbody tr th {\n",
       "        vertical-align: top;\n",
       "    }\n",
       "\n",
       "    .dataframe thead th {\n",
       "        text-align: right;\n",
       "    }\n",
       "</style>\n",
       "<table border=\"1\" class=\"dataframe\">\n",
       "  <thead>\n",
       "    <tr style=\"text-align: right;\">\n",
       "      <th></th>\n",
       "      <th>quintile_cat</th>\n",
       "    </tr>\n",
       "    <tr>\n",
       "      <th>quintile</th>\n",
       "      <th></th>\n",
       "    </tr>\n",
       "  </thead>\n",
       "  <tbody>\n",
       "    <tr>\n",
       "      <th>One</th>\n",
       "      <td>203</td>\n",
       "    </tr>\n",
       "    <tr>\n",
       "      <th>Two</th>\n",
       "      <td>186</td>\n",
       "    </tr>\n",
       "    <tr>\n",
       "      <th>Three</th>\n",
       "      <td>370</td>\n",
       "    </tr>\n",
       "    <tr>\n",
       "      <th>Four</th>\n",
       "      <td>43</td>\n",
       "    </tr>\n",
       "    <tr>\n",
       "      <th>Five</th>\n",
       "      <td>84</td>\n",
       "    </tr>\n",
       "  </tbody>\n",
       "</table>\n",
       "</div>"
      ],
      "text/plain": [
       "          quintile_cat\n",
       "quintile              \n",
       "One                203\n",
       "Two                186\n",
       "Three              370\n",
       "Four                43\n",
       "Five                84"
      ]
     },
     "execution_count": 719,
     "metadata": {},
     "output_type": "execute_result"
    }
   ],
   "source": [
    "schools = schools.groupby('quintile').count()\n",
    "schools = schools.rename(index={1.0: 'One', 2.0:'Two', 3.0:'Three', 4.0: 'Four', 5.0:'Five'})\n",
    "schools"
   ]
  },
  {
   "cell_type": "markdown",
   "id": "3461b6c6-a713-4c91-9173-ee2011a1778d",
   "metadata": {},
   "source": [
    "# How many schools had a 100% pass rate per quintile"
   ]
  },
  {
   "cell_type": "code",
   "execution_count": 720,
   "id": "113f4fac-a83d-4b0a-a754-aa3b604f79e3",
   "metadata": {},
   "outputs": [
    {
     "data": {
      "text/html": [
       "<div>\n",
       "<style scoped>\n",
       "    .dataframe tbody tr th:only-of-type {\n",
       "        vertical-align: middle;\n",
       "    }\n",
       "\n",
       "    .dataframe tbody tr th {\n",
       "        vertical-align: top;\n",
       "    }\n",
       "\n",
       "    .dataframe thead th {\n",
       "        text-align: right;\n",
       "    }\n",
       "</style>\n",
       "<table border=\"1\" class=\"dataframe\">\n",
       "  <thead>\n",
       "    <tr style=\"text-align: right;\">\n",
       "      <th></th>\n",
       "      <th>quintile</th>\n",
       "      <th>perc_2014</th>\n",
       "    </tr>\n",
       "  </thead>\n",
       "  <tbody>\n",
       "    <tr>\n",
       "      <th>0</th>\n",
       "      <td>1.0</td>\n",
       "      <td>5</td>\n",
       "    </tr>\n",
       "    <tr>\n",
       "      <th>1</th>\n",
       "      <td>2.0</td>\n",
       "      <td>1</td>\n",
       "    </tr>\n",
       "    <tr>\n",
       "      <th>2</th>\n",
       "      <td>3.0</td>\n",
       "      <td>4</td>\n",
       "    </tr>\n",
       "    <tr>\n",
       "      <th>3</th>\n",
       "      <td>4.0</td>\n",
       "      <td>7</td>\n",
       "    </tr>\n",
       "    <tr>\n",
       "      <th>4</th>\n",
       "      <td>5.0</td>\n",
       "      <td>24</td>\n",
       "    </tr>\n",
       "  </tbody>\n",
       "</table>\n",
       "</div>"
      ],
      "text/plain": [
       "   quintile  perc_2014\n",
       "0       1.0          5\n",
       "1       2.0          1\n",
       "2       3.0          4\n",
       "3       4.0          7\n",
       "4       5.0         24"
      ]
     },
     "execution_count": 720,
     "metadata": {},
     "output_type": "execute_result"
    }
   ],
   "source": [
    "# select the columns by condition\n",
    "schools = matrics[['quintile', 'perc_2014']]\n",
    "schools = schools[schools['perc_2014']==100.0]\n",
    "\n",
    "# get the count\n",
    "schools_grouped1 = schools.groupby('quintile', as_index=False).count()\n",
    "schools_grouped1"
   ]
  },
  {
   "cell_type": "code",
   "execution_count": 721,
   "id": "190042af-e798-41c4-b6fe-a861292c2f82",
   "metadata": {},
   "outputs": [
    {
     "data": {
      "text/html": [
       "<div>\n",
       "<style scoped>\n",
       "    .dataframe tbody tr th:only-of-type {\n",
       "        vertical-align: middle;\n",
       "    }\n",
       "\n",
       "    .dataframe tbody tr th {\n",
       "        vertical-align: top;\n",
       "    }\n",
       "\n",
       "    .dataframe thead th {\n",
       "        text-align: right;\n",
       "    }\n",
       "</style>\n",
       "<table border=\"1\" class=\"dataframe\">\n",
       "  <thead>\n",
       "    <tr style=\"text-align: right;\">\n",
       "      <th></th>\n",
       "      <th>quintile</th>\n",
       "      <th>perc_2015</th>\n",
       "    </tr>\n",
       "  </thead>\n",
       "  <tbody>\n",
       "    <tr>\n",
       "      <th>0</th>\n",
       "      <td>1.0</td>\n",
       "      <td>3</td>\n",
       "    </tr>\n",
       "    <tr>\n",
       "      <th>1</th>\n",
       "      <td>2.0</td>\n",
       "      <td>2</td>\n",
       "    </tr>\n",
       "    <tr>\n",
       "      <th>2</th>\n",
       "      <td>3.0</td>\n",
       "      <td>5</td>\n",
       "    </tr>\n",
       "    <tr>\n",
       "      <th>3</th>\n",
       "      <td>4.0</td>\n",
       "      <td>10</td>\n",
       "    </tr>\n",
       "    <tr>\n",
       "      <th>4</th>\n",
       "      <td>5.0</td>\n",
       "      <td>24</td>\n",
       "    </tr>\n",
       "  </tbody>\n",
       "</table>\n",
       "</div>"
      ],
      "text/plain": [
       "   quintile  perc_2015\n",
       "0       1.0          3\n",
       "1       2.0          2\n",
       "2       3.0          5\n",
       "3       4.0         10\n",
       "4       5.0         24"
      ]
     },
     "execution_count": 721,
     "metadata": {},
     "output_type": "execute_result"
    }
   ],
   "source": [
    "# select the columns by condition\n",
    "schools = matrics[['quintile', 'perc_2015']]\n",
    "schools = schools[schools['perc_2015']==100.0]\n",
    "\n",
    "# get the count\n",
    "schools_grouped2 = schools.groupby('quintile', as_index=False).count()\n",
    "schools_grouped2"
   ]
  },
  {
   "cell_type": "code",
   "execution_count": 722,
   "id": "0ddd622f-25d5-4ec6-b75f-1e6f095bf2ba",
   "metadata": {},
   "outputs": [
    {
     "data": {
      "text/html": [
       "<div>\n",
       "<style scoped>\n",
       "    .dataframe tbody tr th:only-of-type {\n",
       "        vertical-align: middle;\n",
       "    }\n",
       "\n",
       "    .dataframe tbody tr th {\n",
       "        vertical-align: top;\n",
       "    }\n",
       "\n",
       "    .dataframe thead th {\n",
       "        text-align: right;\n",
       "    }\n",
       "</style>\n",
       "<table border=\"1\" class=\"dataframe\">\n",
       "  <thead>\n",
       "    <tr style=\"text-align: right;\">\n",
       "      <th></th>\n",
       "      <th>quintile</th>\n",
       "      <th>perc_2016</th>\n",
       "    </tr>\n",
       "  </thead>\n",
       "  <tbody>\n",
       "    <tr>\n",
       "      <th>0</th>\n",
       "      <td>1.0</td>\n",
       "      <td>1</td>\n",
       "    </tr>\n",
       "    <tr>\n",
       "      <th>1</th>\n",
       "      <td>2.0</td>\n",
       "      <td>5</td>\n",
       "    </tr>\n",
       "    <tr>\n",
       "      <th>2</th>\n",
       "      <td>3.0</td>\n",
       "      <td>10</td>\n",
       "    </tr>\n",
       "    <tr>\n",
       "      <th>3</th>\n",
       "      <td>4.0</td>\n",
       "      <td>10</td>\n",
       "    </tr>\n",
       "    <tr>\n",
       "      <th>4</th>\n",
       "      <td>5.0</td>\n",
       "      <td>30</td>\n",
       "    </tr>\n",
       "  </tbody>\n",
       "</table>\n",
       "</div>"
      ],
      "text/plain": [
       "   quintile  perc_2016\n",
       "0       1.0          1\n",
       "1       2.0          5\n",
       "2       3.0         10\n",
       "3       4.0         10\n",
       "4       5.0         30"
      ]
     },
     "execution_count": 722,
     "metadata": {},
     "output_type": "execute_result"
    }
   ],
   "source": [
    "# select the columns by condition\n",
    "schools = matrics[['quintile', 'perc_2016']]\n",
    "schools = schools[schools['perc_2016']==100.0]\n",
    "\n",
    "# get the count\n",
    "schools_grouped3 = schools.groupby('quintile', as_index=False).count()\n",
    "schools_grouped3"
   ]
  },
  {
   "cell_type": "code",
   "execution_count": 723,
   "id": "50bbc134-9e8b-478a-b35e-b7a3a5ecbe68",
   "metadata": {},
   "outputs": [],
   "source": [
    "# create the data frame to combine the data I have generated above\n",
    "schools_set1 = pd.DataFrame({'2014':schools_grouped1['perc_2014'],\n",
    "                           '2015':schools_grouped2['perc_2015'],\n",
    "                           '2016':schools_grouped3['perc_2016'],\n",
    "                           'Quintile':['One','Two','Three','Four','Five']\n",
    "                           })"
   ]
  },
  {
   "cell_type": "code",
   "execution_count": 724,
   "id": "179a7681-b484-4ea2-8f0e-2479a562ef73",
   "metadata": {},
   "outputs": [
    {
     "data": {
      "text/html": [
       "<div>\n",
       "<style scoped>\n",
       "    .dataframe tbody tr th:only-of-type {\n",
       "        vertical-align: middle;\n",
       "    }\n",
       "\n",
       "    .dataframe tbody tr th {\n",
       "        vertical-align: top;\n",
       "    }\n",
       "\n",
       "    .dataframe thead th {\n",
       "        text-align: right;\n",
       "    }\n",
       "</style>\n",
       "<table border=\"1\" class=\"dataframe\">\n",
       "  <thead>\n",
       "    <tr style=\"text-align: right;\">\n",
       "      <th></th>\n",
       "      <th>2014</th>\n",
       "      <th>2015</th>\n",
       "      <th>2016</th>\n",
       "    </tr>\n",
       "    <tr>\n",
       "      <th>Quintile</th>\n",
       "      <th></th>\n",
       "      <th></th>\n",
       "      <th></th>\n",
       "    </tr>\n",
       "  </thead>\n",
       "  <tbody>\n",
       "    <tr>\n",
       "      <th>One</th>\n",
       "      <td>5</td>\n",
       "      <td>3</td>\n",
       "      <td>1</td>\n",
       "    </tr>\n",
       "    <tr>\n",
       "      <th>Two</th>\n",
       "      <td>1</td>\n",
       "      <td>2</td>\n",
       "      <td>5</td>\n",
       "    </tr>\n",
       "    <tr>\n",
       "      <th>Three</th>\n",
       "      <td>4</td>\n",
       "      <td>5</td>\n",
       "      <td>10</td>\n",
       "    </tr>\n",
       "    <tr>\n",
       "      <th>Four</th>\n",
       "      <td>7</td>\n",
       "      <td>10</td>\n",
       "      <td>10</td>\n",
       "    </tr>\n",
       "    <tr>\n",
       "      <th>Five</th>\n",
       "      <td>24</td>\n",
       "      <td>24</td>\n",
       "      <td>30</td>\n",
       "    </tr>\n",
       "  </tbody>\n",
       "</table>\n",
       "</div>"
      ],
      "text/plain": [
       "          2014  2015  2016\n",
       "Quintile                  \n",
       "One          5     3     1\n",
       "Two          1     2     5\n",
       "Three        4     5    10\n",
       "Four         7    10    10\n",
       "Five        24    24    30"
      ]
     },
     "execution_count": 724,
     "metadata": {},
     "output_type": "execute_result"
    }
   ],
   "source": [
    "# rename the index to quintile cat\n",
    "schools_set1 = schools_set1.set_index('Quintile')\n",
    "schools_set1"
   ]
  },
  {
   "cell_type": "code",
   "execution_count": 725,
   "id": "c5114a63-04eb-44d2-a324-cc6fbaac6db1",
   "metadata": {},
   "outputs": [
    {
     "data": {
      "text/plain": [
       "Text(0.5, 1.0, 'Schools with 100% Pass Rate per quintile')"
      ]
     },
     "execution_count": 725,
     "metadata": {},
     "output_type": "execute_result"
    },
    {
     "data": {
      "image/png": "[encoded data removed]",
      "text/plain": [
       "<Figure size 720x360 with 2 Axes>"
      ]
     },
     "metadata": {},
     "output_type": "display_data"
    }
   ],
   "source": [
    "# create the subplot figure\n",
    "plt.subplots(figsize=(10,5))\n",
    "\n",
    "# create the plot and add title\n",
    "sns.heatmap(schools_set1, cmap=\"rocket_r\", linewidths=0)\n",
    "plt.title('Schools with 100% Pass Rate per quintile')"
   ]
  },
  {
   "cell_type": "code",
   "execution_count": 726,
   "id": "622fc02c-2df8-4f4a-84d0-8491b10495b7",
   "metadata": {},
   "outputs": [
    {
     "data": {
      "image/png": "[encoded data removed]",
      "text/plain": [
       "<Figure size 720x360 with 1 Axes>"
      ]
     },
     "metadata": {},
     "output_type": "display_data"
    }
   ],
   "source": [
    "# Set the data for the stacks\n",
    "groupOne = schools_set1['2014']\n",
    "groupTwo = schools_set1['2015']\n",
    "groupThree = schools_set1['2016']\n",
    "\n",
    "# Create the stacked area\n",
    "y = np.row_stack((groupOne,groupTwo,groupThree))\n",
    "x = schools_set1.index\n",
    "\n",
    "y1, y2, y3=(groupOne,groupTwo,groupThree)\n",
    "\n",
    "# generate the subplots\n",
    "fig,ax = plt.subplots(figsize=(10,5))\n",
    "ax.stackplot(x,y)\n",
    "\n",
    "# format the labels\n",
    "plt.title(\"Stacked area chart example\")\n",
    "plt.xlabel(\"Quintile (1 - 5)\")\n",
    "plt.ylabel(\"Wrote\")\n",
    "plt.show()"
   ]
  },
  {
   "cell_type": "markdown",
   "id": "8ff1ec79-9e87-4cc8-9087-b2067cc7431b",
   "metadata": {},
   "source": [
    "# How do schools compare for pass rates above 50%"
   ]
  },
  {
   "cell_type": "code",
   "execution_count": 727,
   "id": "c910ce8d-7817-4e7e-86bd-77a0be83560d",
   "metadata": {},
   "outputs": [
    {
     "data": {
      "text/html": [
       "<div>\n",
       "<style scoped>\n",
       "    .dataframe tbody tr th:only-of-type {\n",
       "        vertical-align: middle;\n",
       "    }\n",
       "\n",
       "    .dataframe tbody tr th {\n",
       "        vertical-align: top;\n",
       "    }\n",
       "\n",
       "    .dataframe thead th {\n",
       "        text-align: right;\n",
       "    }\n",
       "</style>\n",
       "<table border=\"1\" class=\"dataframe\">\n",
       "  <thead>\n",
       "    <tr style=\"text-align: right;\">\n",
       "      <th></th>\n",
       "      <th>perc_2014</th>\n",
       "      <th>perc_2015</th>\n",
       "      <th>perc_2016</th>\n",
       "    </tr>\n",
       "    <tr>\n",
       "      <th>quintile</th>\n",
       "      <th></th>\n",
       "      <th></th>\n",
       "      <th></th>\n",
       "    </tr>\n",
       "  </thead>\n",
       "  <tbody>\n",
       "    <tr>\n",
       "      <th>One</th>\n",
       "      <td>61.70</td>\n",
       "      <td>53.30</td>\n",
       "      <td>52.70</td>\n",
       "    </tr>\n",
       "    <tr>\n",
       "      <th>Two</th>\n",
       "      <td>64.45</td>\n",
       "      <td>52.25</td>\n",
       "      <td>57.85</td>\n",
       "    </tr>\n",
       "    <tr>\n",
       "      <th>Three</th>\n",
       "      <td>63.20</td>\n",
       "      <td>54.00</td>\n",
       "      <td>58.65</td>\n",
       "    </tr>\n",
       "    <tr>\n",
       "      <th>Four</th>\n",
       "      <td>89.90</td>\n",
       "      <td>90.20</td>\n",
       "      <td>90.10</td>\n",
       "    </tr>\n",
       "    <tr>\n",
       "      <th>Five</th>\n",
       "      <td>97.45</td>\n",
       "      <td>98.10</td>\n",
       "      <td>97.95</td>\n",
       "    </tr>\n",
       "  </tbody>\n",
       "</table>\n",
       "</div>"
      ],
      "text/plain": [
       "          perc_2014  perc_2015  perc_2016\n",
       "quintile                                 \n",
       "One           61.70      53.30      52.70\n",
       "Two           64.45      52.25      57.85\n",
       "Three         63.20      54.00      58.65\n",
       "Four          89.90      90.20      90.10\n",
       "Five          97.45      98.10      97.95"
      ]
     },
     "execution_count": 727,
     "metadata": {},
     "output_type": "execute_result"
    }
   ],
   "source": [
    "# select the columns and assign to variable\n",
    "g1 = matrics[['quintile','perc_2014', 'perc_2015', 'perc_2016']].groupby('quintile').quantile(q=0.5)\n",
    "\n",
    "# rename the column indexes\n",
    "g1 = g1.rename(index={1.0: 'One', 2.0:'Two', 3.0:'Three', 4.0: 'Four', 5.0:'Five'})\n",
    "g1"
   ]
  },
  {
   "cell_type": "code",
   "execution_count": null,
   "id": "62ca2574-bea8-4692-9f85-ea3d647ec831",
   "metadata": {},
   "outputs": [],
   "source": []
  }
 ],
 "metadata": {
  "kernelspec": {
   "display_name": "Python 3 (ipykernel)",
   "language": "python",
   "name": "python3"
  },
  "language_info": {
   "codemirror_mode": {
    "name": "ipython",
    "version": 3
   },
   "file_extension": ".py",
   "mimetype": "text/x-python",
   "name": "python",
   "nbconvert_exporter": "python",
   "pygments_lexer": "ipython3",
   "version": "3.8.12"
  }
 },
 "nbformat": 4,
 "nbformat_minor": 5
}
