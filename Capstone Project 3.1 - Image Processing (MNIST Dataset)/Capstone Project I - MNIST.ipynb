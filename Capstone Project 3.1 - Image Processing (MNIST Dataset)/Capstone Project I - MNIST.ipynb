{
 "cells": [
  {
   "cell_type": "code",
   "execution_count": 103,
   "id": "c7ad9f6a-e772-4d20-b9e7-2cd1df418456",
   "metadata": {},
   "outputs": [],
   "source": [
    "import numpy as np\n",
    "import pandas as pd\n",
    "\n",
    "# Plotting libraries\n",
    "import seaborn as sns\n",
    "import matplotlib.pyplot as plt\n",
    "%matplotlib inline\n",
    "\n",
    "# library used to load local files of MNIST\n",
    "from mlxtend.data import loadlocal_mnist\n",
    "\n",
    "# Scikit libraries\n",
    "from sklearn.model_selection import train_test_split\n",
    "from sklearn.linear_model import LogisticRegression\n",
    "from sklearn.metrics import confusion_matrix\n",
    "from sklearn.metrics import classification_report\n",
    "from sklearn.ensemble import RandomForestClassifier"
   ]
  },
  {
   "cell_type": "markdown",
   "id": "e7d60873-53b0-4b23-83b6-6ac9fbbd32d9",
   "metadata": {},
   "source": [
    "# **1. Load the MNIST DataSet Locally**"
   ]
  },
  {
   "cell_type": "code",
   "execution_count": 104,
   "id": "816ad74a-35c2-435f-aa37-b726aa1aa3a1",
   "metadata": {},
   "outputs": [],
   "source": [
    "# load images and labels of training data\n",
    "X_training, y_training = loadlocal_mnist(\n",
    "            images_path='train-images.idx3-ubyte', \n",
    "            labels_path='train-labels.idx1-ubyte')\n",
    "\n",
    "# load images and labels of test data\n",
    "X_testing, y_testing = loadlocal_mnist(\n",
    "            images_path='t10k-images.idx3-ubyte', \n",
    "            labels_path='t10k-labels.idx1-ubyte')"
   ]
  },
  {
   "cell_type": "markdown",
   "id": "bee4195e-19d7-4f35-bb6c-f82fbd784712",
   "metadata": {},
   "source": [
    "I used other variables to load the data so that i can use orignal data for further testing If required later on."
   ]
  },
  {
   "cell_type": "code",
   "execution_count": 105,
   "id": "4a2c78de-d9a4-4071-8eb8-dc5698538244",
   "metadata": {},
   "outputs": [],
   "source": [
    "# assigned them to variables which will be easily used in the code\n",
    "# Training set\n",
    "X_train = X_training\n",
    "y_train = y_training\n",
    "\n",
    "# test set\n",
    "X_test = X_testing\n",
    "y_test = y_testing"
   ]
  },
  {
   "cell_type": "code",
   "execution_count": 106,
   "id": "9687f302-5365-425d-b93e-6fbe15280b95",
   "metadata": {},
   "outputs": [
    {
     "name": "stdout",
     "output_type": "stream",
     "text": [
      "Training Data Shape (X):  (60000, 784)\n",
      "Training Data Shape (Y):  (60000,)\n",
      "Training Data Shape (X):  (10000, 784)\n",
      "Training Data Shape (Y):  (10000,)\n"
     ]
    }
   ],
   "source": [
    "print(\"Training Data Shape (X): \",X_train.shape)\n",
    "print(\"Training Data Shape (Y): \",y_train.shape)\n",
    "print(\"Training Data Shape (X): \",X_test.shape)\n",
    "print(\"Training Data Shape (Y): \",y_test.shape)"
   ]
  },
  {
   "cell_type": "markdown",
   "id": "ab6cdf4a-5aad-4e20-9cd0-ef30de40edf4",
   "metadata": {},
   "source": [
    "### Display Graphically"
   ]
  },
  {
   "cell_type": "code",
   "execution_count": 107,
   "id": "10db5003-075c-480c-b9f1-24f1ad4bf1f2",
   "metadata": {},
   "outputs": [
    {
     "data": {
      "image/png": "[encoded data removed]",
      "text/plain": [
       "<Figure size 864x144 with 5 Axes>"
      ]
     },
     "metadata": {
      "needs_background": "light"
     },
     "output_type": "display_data"
    }
   ],
   "source": [
    "# variables to hold the training data\n",
    "image = X_train\n",
    "label = y_train\n",
    "\n",
    "'''\n",
    "to generate the plot, first we have to generate each square pixel which is represented\n",
    "by tuples in a list. aproximately 784 squares each represented by a tuple.\n",
    "each list is reshaped into a 28 x 28 shape, displaying the image in greyscale\n",
    "the subplot creates 5 empty plots to display 5 image graphs.\n",
    "'''\n",
    "plt.figure(figsize=(12,2))\n",
    "for index, (image, label) in enumerate(zip(image[0:5], label[0:5])):\n",
    "    plt.subplot(1, 5, index + 1)\n",
    "    \n",
    "    # the shape is 28 X 28\n",
    "    plt.imshow(np.reshape(image, (28,28)), cmap=plt.cm.gray)\n",
    "    plt.title('Training: %i\\n' % label, fontsize = 16)"
   ]
  },
  {
   "cell_type": "markdown",
   "id": "6af0ee94-8bfe-4c88-b998-b65f4bbfd895",
   "metadata": {},
   "source": [
    "# **2. Split the data into Training, Validation and Test Set**"
   ]
  },
  {
   "cell_type": "code",
   "execution_count": 108,
   "id": "844fa379-249f-44fb-afeb-7b1a0d11e649",
   "metadata": {},
   "outputs": [],
   "source": [
    "# The data assigned to variables\n",
    "X_data = X_train\n",
    "Y_data = y_train"
   ]
  },
  {
   "cell_type": "markdown",
   "id": "21719638-724c-4aed-a58c-f1f95dfe6e11",
   "metadata": {},
   "source": [
    "Now to split the data into Train, Validation and Test sets (Already Given)"
   ]
  },
  {
   "cell_type": "code",
   "execution_count": 109,
   "id": "d519a2fb-aa9e-422f-a1c1-431ba8f35a75",
   "metadata": {},
   "outputs": [
    {
     "data": {
      "text/plain": [
       "(array([[0, 0, 0, ..., 0, 0, 0],\n",
       "        [0, 0, 0, ..., 0, 0, 0],\n",
       "        [0, 0, 0, ..., 0, 0, 0],\n",
       "        ...,\n",
       "        [0, 0, 0, ..., 0, 0, 0],\n",
       "        [0, 0, 0, ..., 0, 0, 0],\n",
       "        [0, 0, 0, ..., 0, 0, 0]], dtype=uint8),\n",
       " array([7, 2, 1, ..., 4, 5, 6], dtype=uint8))"
      ]
     },
     "execution_count": 109,
     "metadata": {},
     "output_type": "execute_result"
    }
   ],
   "source": [
    "# The test set has been given already\n",
    "X_test, y_test"
   ]
  },
  {
   "cell_type": "code",
   "execution_count": 110,
   "id": "54f8f86a-fe93-47e4-9b13-56632d3ea7ee",
   "metadata": {},
   "outputs": [],
   "source": [
    "# Train and validation set\n",
    "valid_ratio = 0.166666 # 10 000\n",
    "X_train, X_valid, y_train, y_valid = train_test_split(X_data, Y_data, \n",
    "                           test_size=valid_ratio)"
   ]
  },
  {
   "cell_type": "code",
   "execution_count": 111,
   "id": "0664a64b-8608-4454-b208-311d1c31f896",
   "metadata": {},
   "outputs": [
    {
     "name": "stdout",
     "output_type": "stream",
     "text": [
      "Training Set:  (50000, 784)\n",
      "Validation Set:  (10000, 784)\n",
      "Testing Set:  (10000, 784)\n"
     ]
    }
   ],
   "source": [
    "print(\"Training Set: \",X_train.shape)\n",
    "print(\"Validation Set: \",X_valid.shape)\n",
    "print(\"Testing Set: \",X_test.shape)"
   ]
  },
  {
   "cell_type": "markdown",
   "id": "971f7edd-d41c-4220-b93e-ca50090f6c92",
   "metadata": {},
   "source": [
    "### Check the data\n",
    "Taking a look at the data, we can see that the data is not uniform. So we need to normalize the data, preferably between 0 and 1 to get a better representation of the data. Since this is a grey scale image we can divide the values by 255. (0,0,255 = #FFFFFF which is black). Here we have values from 0 to 255 indicating the intensities of grey."
   ]
  },
  {
   "cell_type": "code",
   "execution_count": 112,
   "id": "1f7f776c-1058-4bf8-8afb-6f110bcc8f33",
   "metadata": {},
   "outputs": [
    {
     "data": {
      "text/plain": [
       "array([  0,   0,   0,   0,   0,   0,   0,   0,   0,   0,   0,   0,   0,\n",
       "         0,   0,   0,   0,   0,   0,   0,   0,   0,   0,   0,   0,   0,\n",
       "         0,   0,   0,   0,   0,   0,   0,   0,   0,   0,   0,   0,   0,\n",
       "         0,   0,   0,   0,   0,   0,   0,   0,   0,   0,   0,   0,   0,\n",
       "         0,   0,   0,   0,   0,   0,   0,   0,   0,   0,   0,   0,   0,\n",
       "         0,   0,   0,   0,   0,   0,   0,   0,   0,   0,   0,   0,   0,\n",
       "         0,   0,   0,   0,   0,   0,   0,   0,   0,   0,   0,   0,   0,\n",
       "         0,   0,   0,   0,   0,   0,   0,   0,   0,   0,   0,   0,   0,\n",
       "         0,   0,   0,   0,   0,   0,   0,   0,   0,   0,   0,   0,   0,\n",
       "         0,   0,   0,   0,   0,   0,   0,   0,   0,   0,   0,   0,   0,\n",
       "         0,   0,   0,   0,   0,   0,   0,   0,   0,   0,   0,   0,   0,\n",
       "         0,   0,   0,   0,   0,   0,   0,   0,   0,   0,   0,   0,   0,\n",
       "         0,   0,   0,   0,   0,   0,   0,   0,   0,   0,   0,   0,   0,\n",
       "         0,   0,   0,   0,   0,   0,   0,   0,   0,   0,   0,   0,   0,\n",
       "         0,   0,   0,   0,   0,   0,   0,   0,   0,   0,   0,   0,   0,\n",
       "         0,   0,   0,   0,   0,   0,   0,  84, 185, 159, 151,  60,  36,\n",
       "         0,   0,   0,   0,   0,   0,   0,   0,   0,   0,   0,   0,   0,\n",
       "         0,   0,   0,   0,   0,   0,   0,   0,   0, 222, 254, 254, 254,\n",
       "       254, 241, 198, 198, 198, 198, 198, 198, 198, 198, 170,  52,   0,\n",
       "         0,   0,   0,   0,   0,   0,   0,   0,   0,   0,   0,  67, 114,\n",
       "        72, 114, 163, 227, 254, 225, 254, 254, 254, 250, 229, 254, 254,\n",
       "       140,   0,   0,   0,   0,   0,   0,   0,   0,   0,   0,   0,   0,\n",
       "         0,   0,   0,   0,   0,  17,  66,  14,  67,  67,  67,  59,  21,\n",
       "       236, 254, 106,   0,   0,   0,   0,   0,   0,   0,   0,   0,   0,\n",
       "         0,   0,   0,   0,   0,   0,   0,   0,   0,   0,   0,   0,   0,\n",
       "         0,  83, 253, 209,  18,   0,   0,   0,   0,   0,   0,   0,   0,\n",
       "         0,   0,   0,   0,   0,   0,   0,   0,   0,   0,   0,   0,   0,\n",
       "         0,   0,  22, 233, 255,  83,   0,   0,   0,   0,   0,   0,   0,\n",
       "         0,   0,   0,   0,   0,   0,   0,   0,   0,   0,   0,   0,   0,\n",
       "         0,   0,   0,   0, 129, 254, 238,  44,   0,   0,   0,   0,   0,\n",
       "         0,   0,   0,   0,   0,   0,   0,   0,   0,   0,   0,   0,   0,\n",
       "         0,   0,   0,   0,   0,  59, 249, 254,  62,   0,   0,   0,   0,\n",
       "         0,   0,   0,   0,   0,   0,   0,   0,   0,   0,   0,   0,   0,\n",
       "         0,   0,   0,   0,   0,   0,   0, 133, 254, 187,   5,   0,   0,\n",
       "         0,   0,   0,   0,   0,   0,   0,   0,   0,   0,   0,   0,   0,\n",
       "         0,   0,   0,   0,   0,   0,   0,   0,   9, 205, 248,  58,   0,\n",
       "         0,   0,   0,   0,   0,   0,   0,   0,   0,   0,   0,   0,   0,\n",
       "         0,   0,   0,   0,   0,   0,   0,   0,   0,   0, 126, 254, 182,\n",
       "         0,   0,   0,   0,   0,   0,   0,   0,   0,   0,   0,   0,   0,\n",
       "         0,   0,   0,   0,   0,   0,   0,   0,   0,   0,   0,  75, 251,\n",
       "       240,  57,   0,   0,   0,   0,   0,   0,   0,   0,   0,   0,   0,\n",
       "         0,   0,   0,   0,   0,   0,   0,   0,   0,   0,   0,   0,  19,\n",
       "       221, 254, 166,   0,   0,   0,   0,   0,   0,   0,   0,   0,   0,\n",
       "         0,   0,   0,   0,   0,   0,   0,   0,   0,   0,   0,   0,   0,\n",
       "         3, 203, 254, 219,  35,   0,   0,   0,   0,   0,   0,   0,   0,\n",
       "         0,   0,   0,   0,   0,   0,   0,   0,   0,   0,   0,   0,   0,\n",
       "         0,   0,  38, 254, 254,  77,   0,   0,   0,   0,   0,   0,   0,\n",
       "         0,   0,   0,   0,   0,   0,   0,   0,   0,   0,   0,   0,   0,\n",
       "         0,   0,   0,  31, 224, 254, 115,   1,   0,   0,   0,   0,   0,\n",
       "         0,   0,   0,   0,   0,   0,   0,   0,   0,   0,   0,   0,   0,\n",
       "         0,   0,   0,   0,   0, 133, 254, 254,  52,   0,   0,   0,   0,\n",
       "         0,   0,   0,   0,   0,   0,   0,   0,   0,   0,   0,   0,   0,\n",
       "         0,   0,   0,   0,   0,   0,  61, 242, 254, 254,  52,   0,   0,\n",
       "         0,   0,   0,   0,   0,   0,   0,   0,   0,   0,   0,   0,   0,\n",
       "         0,   0,   0,   0,   0,   0,   0,   0, 121, 254, 254, 219,  40,\n",
       "         0,   0,   0,   0,   0,   0,   0,   0,   0,   0,   0,   0,   0,\n",
       "         0,   0,   0,   0,   0,   0,   0,   0,   0,   0, 121, 254, 207,\n",
       "        18,   0,   0,   0,   0,   0,   0,   0,   0,   0,   0,   0,   0,\n",
       "         0,   0,   0,   0,   0,   0,   0,   0,   0,   0,   0,   0,   0,\n",
       "         0,   0,   0,   0,   0,   0,   0,   0,   0,   0,   0,   0,   0,\n",
       "         0,   0,   0,   0], dtype=uint8)"
      ]
     },
     "execution_count": 112,
     "metadata": {},
     "output_type": "execute_result"
    }
   ],
   "source": [
    "X_test[0]"
   ]
  },
  {
   "cell_type": "markdown",
   "id": "f379f867-2592-493e-b4d5-69b59c7162d6",
   "metadata": {},
   "source": [
    "### process data for machine learning\n",
    "So we can define a function to divide the values by 255 and use the map() function to make the changes, as well as use tensorflow cast function to cast the values to float to make sure we can have decimal points (0 - 1)"
   ]
  },
  {
   "cell_type": "code",
   "execution_count": 113,
   "id": "51b9d887-f024-44aa-9906-55792c2f1d4e",
   "metadata": {},
   "outputs": [],
   "source": [
    "# To install tensorflow uncomment the next line\n",
    "# !pip install tensorflow\n",
    "import tensorflow as tf"
   ]
  },
  {
   "cell_type": "code",
   "execution_count": 114,
   "id": "4c4e9b70-ee48-4f01-b727-5843806e3ed6",
   "metadata": {},
   "outputs": [],
   "source": [
    "'''\n",
    "This function normalizes the values by scalling it to a particular range.\n",
    "In this case 0 - 1.\n",
    "It takes each value and divides it by 255 and saves it as a float. 0/255 will still be zero\n",
    "but the rest 1 - 255 will be between 0 and 1. this will scale the data to a set of normalized values.\n",
    "'''\n",
    "def scale(image_data):\n",
    "    image_data = tf.cast(image_data, tf.float64)\n",
    "    image_data /= 255.  # tells the computer the result must be a float\n",
    "    return np.array(image_data)"
   ]
  },
  {
   "cell_type": "code",
   "execution_count": 115,
   "id": "6ba4a169-4c42-4a6d-bc0e-8397ed8dd087",
   "metadata": {},
   "outputs": [],
   "source": [
    "# Normalized Data\n",
    "X_train = scale(X_train)\n",
    "X_valid = scale(X_valid)\n",
    "X_test = scale(X_test)"
   ]
  },
  {
   "cell_type": "markdown",
   "id": "07f27781-1477-4552-9b55-0799e86fc240",
   "metadata": {},
   "source": [
    "# **3. Machine learning**\n",
    "Choose two machine learning algorithms among the ones discussed in the\n",
    "previous Tasks, and explain why you chose them"
   ]
  },
  {
   "cell_type": "markdown",
   "id": "b53e9875-5331-4550-bb60-38b58641fad9",
   "metadata": {},
   "source": [
    "### **3.1 Algorithm Choices**"
   ]
  },
  {
   "cell_type": "markdown",
   "id": "a935200c-5c11-4e6b-9f06-1ea3cb2a1168",
   "metadata": {},
   "source": [
    "#### 3.1.1. Model 1 - Logistic Regression\n",
    "=============================<br>\n",
    "- The dataset has classifications by categories (0 - 9)\n",
    "- Commonly used model due to its speed and reliability\n",
    "\n",
    "#### 3.1.2. Parameters\n",
    "**Parameter**: solver, max_iter\n",
    "<br>**Reason**: solver increased performance, and max_iter was running short (took 3 mins to run)\n",
    "\n",
    "**Value to set**: solver='lbfgs', max_iter=50000\n",
    "<br>**Reason**: The above values where used to remedy the performance of the model and range"
   ]
  },
  {
   "cell_type": "markdown",
   "id": "c509e782-5c86-40e2-8d53-8a65bebe9e83",
   "metadata": {},
   "source": []
  },
  {
   "cell_type": "markdown",
   "id": "07ee9c16-efd8-4b55-86fd-fd9d80b2477c",
   "metadata": {},
   "source": [
    "#### 3.2.1. Model 2 - Random Forest\n",
    "=========================<br>\n",
    "- Reduces overfitting\n",
    "- imporves accuracy\n",
    "- works well with categorical data\n",
    "\n",
    "#### 3.2.2. Parameters\n",
    "**Parameter**: n_estimators, n_jobs, criterion\n",
    "<br>**Reason**: n_estimators sets the amount of trees in the forest, n_jobs specifies number of cores, ciriterion selects either gini or entropy method\n",
    "\n",
    "**Value to set**: n_estimators = 100, n_jobs = 3, criterion='entropy'\n",
    "<br>**Reason**: n_estimators at 100 gives a better model accuracy, n_jobs at 3 cores speeds up processing, ciriterion entropy method gives a higher accuracy"
   ]
  },
  {
   "cell_type": "markdown",
   "id": "4a9d18ef-badc-4e1f-89cb-db103564d5e6",
   "metadata": {},
   "source": [
    "# **4. Generation of The Models**"
   ]
  },
  {
   "cell_type": "markdown",
   "id": "e0510383-4836-474e-97d7-720a4dcce987",
   "metadata": {},
   "source": [
    "## **Model 1 - Logistic Regression**"
   ]
  },
  {
   "cell_type": "code",
   "execution_count": 116,
   "id": "73eae255-b07a-4b65-ae10-78be10682a78",
   "metadata": {},
   "outputs": [
    {
     "data": {
      "text/plain": [
       "LogisticRegression(max_iter=50000)"
      ]
     },
     "execution_count": 116,
     "metadata": {},
     "output_type": "execute_result"
    }
   ],
   "source": [
    "# create instance of the model\n",
    "logisticReg = LogisticRegression(solver='lbfgs', max_iter=50000)\n",
    "\n",
    "# Train the model for every X value to respective Y value\n",
    "logisticReg.fit(X_train, y_train )"
   ]
  },
  {
   "cell_type": "markdown",
   "id": "29c727ec-4384-4d38-afe0-8939e51b3564",
   "metadata": {},
   "source": [
    "#### Predictions"
   ]
  },
  {
   "cell_type": "code",
   "execution_count": 117,
   "id": "b1834210-c07e-4da7-8f78-3ced88cd245a",
   "metadata": {},
   "outputs": [
    {
     "data": {
      "text/plain": [
       "array([7], dtype=uint8)"
      ]
     },
     "execution_count": 117,
     "metadata": {},
     "output_type": "execute_result"
    }
   ],
   "source": [
    "# predictions made on the test set first image\n",
    "logisticReg.predict(X_test[0].reshape(1,-1))"
   ]
  },
  {
   "cell_type": "code",
   "execution_count": 118,
   "id": "52df53ae-6464-4207-81d9-8eccee1214c6",
   "metadata": {},
   "outputs": [],
   "source": [
    "# predictions made on all the data in the test set\n",
    "lr_pred = logisticReg.predict(X_test)"
   ]
  },
  {
   "cell_type": "code",
   "execution_count": 119,
   "id": "cef22d9f-8996-4b18-a8cf-b45a4c2d7168",
   "metadata": {},
   "outputs": [
    {
     "data": {
      "image/png": "[encoded data removed]",
      "text/plain": [
       "<Figure size 1080x144 with 8 Axes>"
      ]
     },
     "metadata": {
      "needs_background": "light"
     },
     "output_type": "display_data"
    }
   ],
   "source": [
    "# variables to hold the training data\n",
    "image = X_test\n",
    "label = y_test\n",
    "\n",
    "'''\n",
    "to generate the plot, first we have to generate each square pixel which is represented\n",
    "by tuples in a list. aproximately 784 squares each represented by a tuple.\n",
    "each list is reshaped into a 28 x 28 shape, displaying the image in greyscale\n",
    "the subplot creates 5 empty plots to display 5 image graphs.\n",
    "'''\n",
    "plt.figure(figsize=(15,2))\n",
    "for index, (image, label) in enumerate(zip(image[0:8], label[0:8])):\n",
    "    plt.subplot(1, 8, index + 1)\n",
    "    \n",
    "    # the shape is 28 X 28\n",
    "    plt.imshow(np.reshape(image, (28,28)), cmap=plt.cm.gray)\n",
    "    plt.title('Training: %i\\n' % label, fontsize = 16)"
   ]
  },
  {
   "cell_type": "markdown",
   "id": "4bb892c1-78a9-41b4-8aa8-183cc7c7b317",
   "metadata": {},
   "source": [
    "#### Confusion Matrix"
   ]
  },
  {
   "cell_type": "code",
   "execution_count": 120,
   "id": "e90088f6-380d-4a90-8e2a-7465677faa49",
   "metadata": {},
   "outputs": [],
   "source": [
    "# generate the confusion matrix and hold it in a variable\n",
    "# to be used in the seaborn heatmap\n",
    "lr_cm = confusion_matrix(y_test, lr_pred)"
   ]
  },
  {
   "cell_type": "code",
   "execution_count": 121,
   "id": "8bf97a4e-d011-4bc9-bdb3-fb5aa2783234",
   "metadata": {},
   "outputs": [],
   "source": [
    "# determine the accuracy score on the test set\n",
    "lr_score = logisticReg.score(X_test, y_test)"
   ]
  },
  {
   "cell_type": "markdown",
   "id": "6681970b-67d7-4f63-b1cc-d324ac585a83",
   "metadata": {},
   "source": [
    "Playing around with the colour palette i accidently came across this one and I am Loving it!!\n",
    "It highlights the problem areas in the heatmap."
   ]
  },
  {
   "cell_type": "code",
   "execution_count": 122,
   "id": "a0bacd6d-b9b2-4e38-a70e-ecaf2723c818",
   "metadata": {},
   "outputs": [
    {
     "data": {
      "text/plain": [
       "Text(0.5, 1.0, 'Models Accuracy: 0.9249')"
      ]
     },
     "execution_count": 122,
     "metadata": {},
     "output_type": "execute_result"
    },
    {
     "data": {
      "image/png": "[encoded data removed]",
      "text/plain": [
       "<Figure size 1080x648 with 2 Axes>"
      ]
     },
     "metadata": {
      "needs_background": "light"
     },
     "output_type": "display_data"
    }
   ],
   "source": [
    "# colour palette argument\n",
    "color = sns.color_palette(\"ch:s=-.2,r=20\", as_cmap=True)\n",
    "\n",
    "# generate an empty plot and populate it with a heatmap\n",
    "plt.figure(figsize=(15,9))\n",
    "sns.heatmap(lr_cm, annot=True, fmt=\".0f\", linewidths=.5, square = True, cmap = color)\n",
    "\n",
    "# add axis and title labels \n",
    "plt.ylabel('Actual labels')\n",
    "plt.xlabel('Predicted labels')\n",
    "title = 'Models Accuracy: {0}'.format(lr_score)\n",
    "plt.title(title, size = 20)"
   ]
  },
  {
   "cell_type": "markdown",
   "id": "9f1bc768-14aa-407b-a728-02298ca1998e",
   "metadata": {},
   "source": [
    "#### Classification report - Precision, Recall, f1-score"
   ]
  },
  {
   "cell_type": "code",
   "execution_count": 123,
   "id": "86b0b911-8f0d-4629-8bfe-5bdf91d122cc",
   "metadata": {},
   "outputs": [
    {
     "name": "stdout",
     "output_type": "stream",
     "text": [
      "Classification Report\n",
      "              precision    recall  f1-score   support\n",
      "\n",
      "           0       0.95      0.98      0.97       980\n",
      "           1       0.96      0.98      0.97      1135\n",
      "           2       0.93      0.90      0.91      1032\n",
      "           3       0.90      0.91      0.91      1010\n",
      "           4       0.94      0.93      0.94       982\n",
      "           5       0.89      0.87      0.88       892\n",
      "           6       0.95      0.95      0.95       958\n",
      "           7       0.93      0.92      0.92      1028\n",
      "           8       0.88      0.88      0.88       974\n",
      "           9       0.91      0.91      0.91      1009\n",
      "\n",
      "    accuracy                           0.92     10000\n",
      "   macro avg       0.92      0.92      0.92     10000\n",
      "weighted avg       0.92      0.92      0.92     10000\n",
      "\n"
     ]
    }
   ],
   "source": [
    "# Generate a classification report which displays the precision, recall and f1-score\n",
    "# with the averages and accuracy\n",
    "print(\"Classification Report\")\n",
    "print(classification_report(y_test, lr_pred))"
   ]
  },
  {
   "cell_type": "markdown",
   "id": "e39eac46-e2e8-4c70-b7f3-c51e259383a1",
   "metadata": {},
   "source": [
    "## **Model 2 - Random Forest**"
   ]
  },
  {
   "cell_type": "code",
   "execution_count": 124,
   "id": "7bbb3e93-a41f-4f56-a99e-97f43fe4f608",
   "metadata": {},
   "outputs": [
    {
     "data": {
      "text/plain": [
       "RandomForestClassifier(criterion='entropy', n_jobs=3, random_state=7)"
      ]
     },
     "execution_count": 124,
     "metadata": {},
     "output_type": "execute_result"
    }
   ],
   "source": [
    "# Create instance of our tree by calling the RandomForestClassifier with selected parameters\n",
    "rf = RandomForestClassifier(n_estimators=100, criterion='entropy', \n",
    "                            random_state=7, min_samples_split=2, n_jobs=3)\n",
    "\n",
    "# train the model on training set data\n",
    "rf.fit(X_train, y_train)"
   ]
  },
  {
   "cell_type": "code",
   "execution_count": 125,
   "id": "16740965-fe8e-410b-9bfe-5766c3bf1c5d",
   "metadata": {},
   "outputs": [],
   "source": [
    "# generate predictions on the test data\n",
    "rf_pred = logisticReg.predict(X_test)"
   ]
  },
  {
   "cell_type": "markdown",
   "id": "35df984a-3619-4a2c-8c84-c8a1eb29c366",
   "metadata": {},
   "source": [
    "#### Confusion Matrix"
   ]
  },
  {
   "cell_type": "code",
   "execution_count": 126,
   "id": "b3df8307-205f-460e-95e5-bbff14af3f04",
   "metadata": {},
   "outputs": [],
   "source": [
    "# generate the confusion matrix and hold it in a variable\n",
    "# to be used in the seaborn heatmap\n",
    "rf_cm = confusion_matrix(y_test, rf_pred)"
   ]
  },
  {
   "cell_type": "code",
   "execution_count": 127,
   "id": "2689b484-404a-4547-83e2-0694635cb918",
   "metadata": {},
   "outputs": [],
   "source": [
    "# determine the accuracy score on the test set\n",
    "rf_score = rf.score(X_test, y_test)"
   ]
  },
  {
   "cell_type": "code",
   "execution_count": 128,
   "id": "d07d0939-7f30-40d6-aa95-08bf57f68b4c",
   "metadata": {},
   "outputs": [
    {
     "data": {
      "text/plain": [
       "Text(0.5, 1.0, 'Accuracy Score: 0.9679')"
      ]
     },
     "execution_count": 128,
     "metadata": {},
     "output_type": "execute_result"
    },
    {
     "data": {
      "image/png": "[encoded data removed]",
      "text/plain": [
       "<Figure size 1080x648 with 2 Axes>"
      ]
     },
     "metadata": {
      "needs_background": "light"
     },
     "output_type": "display_data"
    }
   ],
   "source": [
    "# colour palette argument\n",
    "color = sns.color_palette(\"ch:s=-.2,r=20\", as_cmap=True)\n",
    "\n",
    "# generate an empty plot and populate it with a heatmap\n",
    "plt.figure(figsize=(15,9))\n",
    "sns.heatmap(rf_cm, annot=True, fmt=\".0f\", linewidths=.5, square = True, cmap = color)\n",
    "\n",
    "# add axis and title labels \n",
    "plt.ylabel('Actual label')\n",
    "plt.xlabel('Predicted label')\n",
    "title = 'Accuracy Score: {0}'.format(rf_score)\n",
    "plt.title(title, size = 20)"
   ]
  },
  {
   "cell_type": "markdown",
   "id": "98f810e6-5196-4a82-83b9-5f9ad61d7587",
   "metadata": {},
   "source": [
    "#### Classification report - Precision, Recall, f1-score"
   ]
  },
  {
   "cell_type": "code",
   "execution_count": 129,
   "id": "5c93bcc1-36fe-4c6f-9d0e-3a44e1cd8149",
   "metadata": {},
   "outputs": [
    {
     "name": "stdout",
     "output_type": "stream",
     "text": [
      "Classification Report\n",
      "              precision    recall  f1-score   support\n",
      "\n",
      "           0       0.95      0.98      0.97       980\n",
      "           1       0.96      0.98      0.97      1135\n",
      "           2       0.93      0.90      0.91      1032\n",
      "           3       0.90      0.91      0.91      1010\n",
      "           4       0.94      0.93      0.94       982\n",
      "           5       0.89      0.87      0.88       892\n",
      "           6       0.95      0.95      0.95       958\n",
      "           7       0.93      0.92      0.92      1028\n",
      "           8       0.88      0.88      0.88       974\n",
      "           9       0.91      0.91      0.91      1009\n",
      "\n",
      "    accuracy                           0.92     10000\n",
      "   macro avg       0.92      0.92      0.92     10000\n",
      "weighted avg       0.92      0.92      0.92     10000\n",
      "\n"
     ]
    }
   ],
   "source": [
    "# Generate a classification report which displays the precision, recall and f1-score\n",
    "# with the averages and accuracy\n",
    "print(\"Classification Report\")\n",
    "print(classification_report(y_test, rf_pred))"
   ]
  },
  {
   "cell_type": "code",
   "execution_count": null,
   "id": "0061d246-c975-4267-b8bd-be3795a49d5d",
   "metadata": {},
   "outputs": [],
   "source": []
  },
  {
   "cell_type": "code",
   "execution_count": null,
   "id": "71788824-7234-48f9-8a42-a1294c7840ff",
   "metadata": {},
   "outputs": [],
   "source": []
  },
  {
   "cell_type": "markdown",
   "id": "43d6a109-71ec-4c48-985f-1d2b998a5d71",
   "metadata": {},
   "source": [
    "# **5. Report which classes the models struggle with the most**\n",
    "I compared the matrices misinterpretation for values above 20 000 for both matrices to have a levelled comparison"
   ]
  },
  {
   "cell_type": "markdown",
   "id": "3773bb4b-fd17-4d05-bf5b-b8d0c2b025fa",
   "metadata": {},
   "source": [
    "#### Model 1 - Logistic regression"
   ]
  },
  {
   "cell_type": "markdown",
   "id": "1860abef-9235-4175-899d-cabfc888dd17",
   "metadata": {},
   "source": [
    "This model struggled with distinguishing between the following classes (> 20 K):\n",
    "\n",
    "- 8, 5 was sometimes recognized as 3\n",
    "- 9 was sometimes recognized as 4\n",
    "- 3, 8 was sometimes recognized as 5\n",
    "- 9 was sometimes recognized as 7\n",
    "- 5, 2 was sometimes recognized as 8\n",
    "- 7, 4 was sometimes recognized as 9"
   ]
  },
  {
   "cell_type": "markdown",
   "id": "89d4e513-4fbb-419c-9515-d5efb93ddce8",
   "metadata": {},
   "source": [
    "#### Model 2 - Random Forest"
   ]
  },
  {
   "cell_type": "markdown",
   "id": "eeff6ec3-4323-4d7a-985c-49bf1ba4c68a",
   "metadata": {},
   "source": [
    "This model struggled with distinguishing between the following classes (> 20 K):\n",
    "\n",
    "- 7 was sometimes recognized as 2\n",
    "- 4 was sometimes recognized as 9"
   ]
  },
  {
   "cell_type": "markdown",
   "id": "5537b5f0-dd6e-44a5-80a9-91fb419d19e9",
   "metadata": {},
   "source": [
    "## Comment on the differences in performance and report which model you believe did the best job."
   ]
  },
  {
   "cell_type": "code",
   "execution_count": 130,
   "id": "5476b656-791d-4eb2-be97-6ab378b199ca",
   "metadata": {},
   "outputs": [
    {
     "name": "stdout",
     "output_type": "stream",
     "text": [
      "Logistic Regression Accuracy: 0.9249\n",
      "Random Forest Accuracy: 0.9679\n"
     ]
    }
   ],
   "source": [
    "print(\"Logistic Regression Accuracy:\",lr_score)\n",
    "print(\"Random Forest Accuracy:\",rf_score)"
   ]
  },
  {
   "cell_type": "code",
   "execution_count": null,
   "id": "3380285e-b32d-456d-ba2a-aa4a6c506c60",
   "metadata": {},
   "outputs": [],
   "source": []
  },
  {
   "cell_type": "markdown",
   "id": "15308eb7-8e6a-4a8d-9fa3-5d4778f84ba8",
   "metadata": {},
   "source": [
    "# REFERENCES\n",
    "Load the MNIST Dataset from Local Files<br>\n",
    "http://rasbt.github.io/mlxtend/user_guide/data/loadlocal_mnist/\n",
    "\n",
    "Loading MNIST handwritten digits dataset<br> https://www.renom.jp/notebooks/tutorial/neuralnetwork/download_mnist/notebook.html\n",
    "\n",
    "\n",
    "How to split data into three sets (train, validation, and test) And why?<br>\n",
    "https://towardsdatascience.com/how-to-split-data-into-three-sets-train-validation-and-test-and-why-e50d22d3e54c\n",
    "\n",
    "MNIST Classification using Random Forest<br>\n",
    "https://www.kaggle.com/ashwani07/mnist-classification-using-random-forest"
   ]
  },
  {
   "cell_type": "code",
   "execution_count": null,
   "id": "022fc491-2378-4658-a9d5-3c12dd23adbf",
   "metadata": {},
   "outputs": [],
   "source": []
  }
 ],
 "metadata": {
  "kernelspec": {
   "display_name": "Python 3 (ipykernel)",
   "language": "python",
   "name": "python3"
  },
  "language_info": {
   "codemirror_mode": {
    "name": "ipython",
    "version": 3
   },
   "file_extension": ".py",
   "mimetype": "text/x-python",
   "name": "python",
   "nbconvert_exporter": "python",
   "pygments_lexer": "ipython3",
   "version": "3.9.7"
  }
 },
 "nbformat": 4,
 "nbformat_minor": 5
}
